{
  "cells": [
    {
      "cell_type": "code",
      "execution_count": 2,
      "metadata": {
        "id": "10WAiMggKJhh"
      },
      "outputs": [],
      "source": [
        "#Steam Games\n",
        "#Importo Librerias\n",
        "import pandas as pd\n",
        "import re"
      ]
    },
    {
      "cell_type": "code",
      "execution_count": 4,
      "metadata": {
        "id": "zV5GktrcK2L4"
      },
      "outputs": [
        {
          "data": {
            "text/html": [
              "<div>\n",
              "<style scoped>\n",
              "    .dataframe tbody tr th:only-of-type {\n",
              "        vertical-align: middle;\n",
              "    }\n",
              "\n",
              "    .dataframe tbody tr th {\n",
              "        vertical-align: top;\n",
              "    }\n",
              "\n",
              "    .dataframe thead th {\n",
              "        text-align: right;\n",
              "    }\n",
              "</style>\n",
              "<table border=\"1\" class=\"dataframe\">\n",
              "  <thead>\n",
              "    <tr style=\"text-align: right;\">\n",
              "      <th></th>\n",
              "      <th>publisher</th>\n",
              "      <th>genres</th>\n",
              "      <th>app_name</th>\n",
              "      <th>title</th>\n",
              "      <th>url</th>\n",
              "      <th>release_date</th>\n",
              "      <th>tags</th>\n",
              "      <th>reviews_url</th>\n",
              "      <th>specs</th>\n",
              "      <th>price</th>\n",
              "      <th>early_access</th>\n",
              "      <th>id</th>\n",
              "      <th>developer</th>\n",
              "    </tr>\n",
              "  </thead>\n",
              "  <tbody>\n",
              "    <tr>\n",
              "      <th>119997</th>\n",
              "      <td>Tripwire Interactive</td>\n",
              "      <td>[Action]</td>\n",
              "      <td>Killing Floor</td>\n",
              "      <td>Killing Floor</td>\n",
              "      <td>http://store.steampowered.com/app/1250/Killing...</td>\n",
              "      <td>2009-05-14</td>\n",
              "      <td>[FPS, Zombies, Co-op, Survival, Action, Multip...</td>\n",
              "      <td>http://steamcommunity.com/app/1250/reviews/?br...</td>\n",
              "      <td>[Single-player, Multi-player, Co-op, Cross-Pla...</td>\n",
              "      <td>19.99</td>\n",
              "      <td>0.0</td>\n",
              "      <td>1250.0</td>\n",
              "      <td>Tripwire Interactive</td>\n",
              "    </tr>\n",
              "  </tbody>\n",
              "</table>\n",
              "</div>"
            ],
            "text/plain": [
              "                   publisher    genres       app_name          title  \\\n",
              "119997  Tripwire Interactive  [Action]  Killing Floor  Killing Floor   \n",
              "\n",
              "                                                      url release_date  \\\n",
              "119997  http://store.steampowered.com/app/1250/Killing...   2009-05-14   \n",
              "\n",
              "                                                     tags  \\\n",
              "119997  [FPS, Zombies, Co-op, Survival, Action, Multip...   \n",
              "\n",
              "                                              reviews_url  \\\n",
              "119997  http://steamcommunity.com/app/1250/reviews/?br...   \n",
              "\n",
              "                                                    specs  price  \\\n",
              "119997  [Single-player, Multi-player, Co-op, Cross-Pla...  19.99   \n",
              "\n",
              "        early_access      id             developer  \n",
              "119997           0.0  1250.0  Tripwire Interactive  "
            ]
          },
          "execution_count": 4,
          "metadata": {},
          "output_type": "execute_result"
        }
      ],
      "source": [
        "#Asigno al DataFrame el archivo json steam_games.json.gz\n",
        "#df_sg=pd.read_json('/content/drive/MyDrive/PI_ML_OPS-PT/Dataset/steam_games.json.gz',compression='gzip',lines=True,encoding='utf-8')\n",
        "df_sg=pd.read_json('./Dataset/steam_games.json.gz',compression='gzip',lines=True,encoding='utf-8')"
      ]
    },
    {
      "cell_type": "code",
      "execution_count": 7,
      "metadata": {
        "id": "C8OPe6aFC72-"
      },
      "outputs": [],
      "source": [
        "#Elimino filas totalmente vacias\n",
        "df_sg.dropna(how='all',inplace=True)"
      ]
    },
    {
      "cell_type": "code",
      "execution_count": 8,
      "metadata": {
        "colab": {
          "base_uri": "https://localhost:8080/",
          "height": 236
        },
        "id": "vacPm_Dr575o",
        "outputId": "7c0fd740-01a5-42ad-86bc-aa1b06f2e478"
      },
      "outputs": [
        {
          "data": {
            "text/html": [
              "<div>\n",
              "<style scoped>\n",
              "    .dataframe tbody tr th:only-of-type {\n",
              "        vertical-align: middle;\n",
              "    }\n",
              "\n",
              "    .dataframe tbody tr th {\n",
              "        vertical-align: top;\n",
              "    }\n",
              "\n",
              "    .dataframe thead th {\n",
              "        text-align: right;\n",
              "    }\n",
              "</style>\n",
              "<table border=\"1\" class=\"dataframe\">\n",
              "  <thead>\n",
              "    <tr style=\"text-align: right;\">\n",
              "      <th></th>\n",
              "      <th>publisher</th>\n",
              "      <th>genres</th>\n",
              "      <th>app_name</th>\n",
              "      <th>title</th>\n",
              "      <th>url</th>\n",
              "      <th>release_date</th>\n",
              "      <th>tags</th>\n",
              "      <th>reviews_url</th>\n",
              "      <th>specs</th>\n",
              "      <th>price</th>\n",
              "      <th>early_access</th>\n",
              "      <th>id</th>\n",
              "      <th>developer</th>\n",
              "    </tr>\n",
              "  </thead>\n",
              "  <tbody>\n",
              "    <tr>\n",
              "      <th>88384</th>\n",
              "      <td>None</td>\n",
              "      <td>None</td>\n",
              "      <td>None</td>\n",
              "      <td>None</td>\n",
              "      <td>http://store.steampowered.com/</td>\n",
              "      <td>None</td>\n",
              "      <td>None</td>\n",
              "      <td>None</td>\n",
              "      <td>None</td>\n",
              "      <td>19.99</td>\n",
              "      <td>0.0</td>\n",
              "      <td>NaN</td>\n",
              "      <td>None</td>\n",
              "    </tr>\n",
              "    <tr>\n",
              "      <th>119271</th>\n",
              "      <td>Warner Bros. Interactive Entertainment, Feral ...</td>\n",
              "      <td>[Action, Adventure]</td>\n",
              "      <td>Batman: Arkham City - Game of the Year Edition</td>\n",
              "      <td>Batman: Arkham City - Game of the Year Edition</td>\n",
              "      <td>http://store.steampowered.com/app/200260</td>\n",
              "      <td>2012-09-07</td>\n",
              "      <td>[Action, Open World, Batman, Adventure, Stealt...</td>\n",
              "      <td>None</td>\n",
              "      <td>[Single-player, Steam Achievements, Steam Trad...</td>\n",
              "      <td>19.99</td>\n",
              "      <td>0.0</td>\n",
              "      <td>NaN</td>\n",
              "      <td>Rocksteady Studios,Feral Interactive (Mac)</td>\n",
              "    </tr>\n",
              "  </tbody>\n",
              "</table>\n",
              "</div>"
            ],
            "text/plain": [
              "                                                publisher  \\\n",
              "88384                                                None   \n",
              "119271  Warner Bros. Interactive Entertainment, Feral ...   \n",
              "\n",
              "                     genres                                        app_name  \\\n",
              "88384                  None                                            None   \n",
              "119271  [Action, Adventure]  Batman: Arkham City - Game of the Year Edition   \n",
              "\n",
              "                                                 title  \\\n",
              "88384                                             None   \n",
              "119271  Batman: Arkham City - Game of the Year Edition   \n",
              "\n",
              "                                             url release_date  \\\n",
              "88384             http://store.steampowered.com/         None   \n",
              "119271  http://store.steampowered.com/app/200260   2012-09-07   \n",
              "\n",
              "                                                     tags reviews_url  \\\n",
              "88384                                                None        None   \n",
              "119271  [Action, Open World, Batman, Adventure, Stealt...        None   \n",
              "\n",
              "                                                    specs  price  \\\n",
              "88384                                                None  19.99   \n",
              "119271  [Single-player, Steam Achievements, Steam Trad...  19.99   \n",
              "\n",
              "        early_access  id                                   developer  \n",
              "88384            0.0 NaN                                        None  \n",
              "119271           0.0 NaN  Rocksteady Studios,Feral Interactive (Mac)  "
            ]
          },
          "execution_count": 8,
          "metadata": {},
          "output_type": "execute_result"
        }
      ],
      "source": [
        "#Busqueda de Id nulos\n",
        "df_sg[(df_sg['id'].isnull())]"
      ]
    },
    {
      "cell_type": "code",
      "execution_count": 9,
      "metadata": {
        "colab": {
          "base_uri": "https://localhost:8080/",
          "height": 340
        },
        "id": "PlzYBHaYjhYT",
        "outputId": "36f5a79b-32a0-48db-da1f-c8b2bc1fa4a8"
      },
      "outputs": [
        {
          "data": {
            "text/html": [
              "<div>\n",
              "<style scoped>\n",
              "    .dataframe tbody tr th:only-of-type {\n",
              "        vertical-align: middle;\n",
              "    }\n",
              "\n",
              "    .dataframe tbody tr th {\n",
              "        vertical-align: top;\n",
              "    }\n",
              "\n",
              "    .dataframe thead th {\n",
              "        text-align: right;\n",
              "    }\n",
              "</style>\n",
              "<table border=\"1\" class=\"dataframe\">\n",
              "  <thead>\n",
              "    <tr style=\"text-align: right;\">\n",
              "      <th></th>\n",
              "      <th>publisher</th>\n",
              "      <th>genres</th>\n",
              "      <th>app_name</th>\n",
              "      <th>title</th>\n",
              "      <th>url</th>\n",
              "      <th>release_date</th>\n",
              "      <th>tags</th>\n",
              "      <th>reviews_url</th>\n",
              "      <th>specs</th>\n",
              "      <th>price</th>\n",
              "      <th>early_access</th>\n",
              "      <th>id</th>\n",
              "      <th>developer</th>\n",
              "    </tr>\n",
              "  </thead>\n",
              "  <tbody>\n",
              "    <tr>\n",
              "      <th>89378</th>\n",
              "      <td>Warner Bros. Interactive Entertainment, Feral ...</td>\n",
              "      <td>[Action, Adventure]</td>\n",
              "      <td>Batman: Arkham City - Game of the Year Edition</td>\n",
              "      <td>Batman: Arkham City - Game of the Year Edition</td>\n",
              "      <td>http://store.steampowered.com/app/200260/Batma...</td>\n",
              "      <td>2012-09-07</td>\n",
              "      <td>[Action, Open World, Batman, Adventure, Stealt...</td>\n",
              "      <td>http://steamcommunity.com/app/200260/reviews/?...</td>\n",
              "      <td>[Single-player, Steam Achievements, Steam Trad...</td>\n",
              "      <td>19.99</td>\n",
              "      <td>0.0</td>\n",
              "      <td>200260.0</td>\n",
              "      <td>Rocksteady Studios,Feral Interactive (Mac)</td>\n",
              "    </tr>\n",
              "    <tr>\n",
              "      <th>119271</th>\n",
              "      <td>Warner Bros. Interactive Entertainment, Feral ...</td>\n",
              "      <td>[Action, Adventure]</td>\n",
              "      <td>Batman: Arkham City - Game of the Year Edition</td>\n",
              "      <td>Batman: Arkham City - Game of the Year Edition</td>\n",
              "      <td>http://store.steampowered.com/app/200260</td>\n",
              "      <td>2012-09-07</td>\n",
              "      <td>[Action, Open World, Batman, Adventure, Stealt...</td>\n",
              "      <td>None</td>\n",
              "      <td>[Single-player, Steam Achievements, Steam Trad...</td>\n",
              "      <td>19.99</td>\n",
              "      <td>0.0</td>\n",
              "      <td>NaN</td>\n",
              "      <td>Rocksteady Studios,Feral Interactive (Mac)</td>\n",
              "    </tr>\n",
              "  </tbody>\n",
              "</table>\n",
              "</div>"
            ],
            "text/plain": [
              "                                                publisher  \\\n",
              "89378   Warner Bros. Interactive Entertainment, Feral ...   \n",
              "119271  Warner Bros. Interactive Entertainment, Feral ...   \n",
              "\n",
              "                     genres                                        app_name  \\\n",
              "89378   [Action, Adventure]  Batman: Arkham City - Game of the Year Edition   \n",
              "119271  [Action, Adventure]  Batman: Arkham City - Game of the Year Edition   \n",
              "\n",
              "                                                 title  \\\n",
              "89378   Batman: Arkham City - Game of the Year Edition   \n",
              "119271  Batman: Arkham City - Game of the Year Edition   \n",
              "\n",
              "                                                      url release_date  \\\n",
              "89378   http://store.steampowered.com/app/200260/Batma...   2012-09-07   \n",
              "119271           http://store.steampowered.com/app/200260   2012-09-07   \n",
              "\n",
              "                                                     tags  \\\n",
              "89378   [Action, Open World, Batman, Adventure, Stealt...   \n",
              "119271  [Action, Open World, Batman, Adventure, Stealt...   \n",
              "\n",
              "                                              reviews_url  \\\n",
              "89378   http://steamcommunity.com/app/200260/reviews/?...   \n",
              "119271                                               None   \n",
              "\n",
              "                                                    specs  price  \\\n",
              "89378   [Single-player, Steam Achievements, Steam Trad...  19.99   \n",
              "119271  [Single-player, Steam Achievements, Steam Trad...  19.99   \n",
              "\n",
              "        early_access        id                                   developer  \n",
              "89378            0.0  200260.0  Rocksteady Studios,Feral Interactive (Mac)  \n",
              "119271           0.0       NaN  Rocksteady Studios,Feral Interactive (Mac)  "
            ]
          },
          "execution_count": 9,
          "metadata": {},
          "output_type": "execute_result"
        }
      ],
      "source": [
        "#Busqueda de aplicacion con similar nombre de Id nulo\n",
        "df_sg[(df_sg['app_name'] == 'Batman: Arkham City - Game of the Year Edition')]"
      ]
    },
    {
      "cell_type": "code",
      "execution_count": 10,
      "metadata": {
        "id": "OaKDWK2Hj_eT"
      },
      "outputs": [],
      "source": [
        "#Eliminacion de id nulos\n",
        "df_sg.dropna(subset=['id'],inplace=True)"
      ]
    },
    {
      "cell_type": "code",
      "execution_count": 11,
      "metadata": {
        "colab": {
          "base_uri": "https://localhost:8080/",
          "height": 112
        },
        "id": "h_SiGS5JLHv1",
        "outputId": "4766fb10-6c65-41e9-b96a-913bdd238aff"
      },
      "outputs": [
        {
          "data": {
            "text/html": [
              "<div>\n",
              "<style scoped>\n",
              "    .dataframe tbody tr th:only-of-type {\n",
              "        vertical-align: middle;\n",
              "    }\n",
              "\n",
              "    .dataframe tbody tr th {\n",
              "        vertical-align: top;\n",
              "    }\n",
              "\n",
              "    .dataframe thead th {\n",
              "        text-align: right;\n",
              "    }\n",
              "</style>\n",
              "<table border=\"1\" class=\"dataframe\">\n",
              "  <thead>\n",
              "    <tr style=\"text-align: right;\">\n",
              "      <th></th>\n",
              "      <th>publisher</th>\n",
              "      <th>genres</th>\n",
              "      <th>app_name</th>\n",
              "      <th>title</th>\n",
              "      <th>url</th>\n",
              "      <th>release_date</th>\n",
              "      <th>tags</th>\n",
              "      <th>reviews_url</th>\n",
              "      <th>specs</th>\n",
              "      <th>price</th>\n",
              "      <th>early_access</th>\n",
              "      <th>id</th>\n",
              "      <th>developer</th>\n",
              "    </tr>\n",
              "  </thead>\n",
              "  <tbody>\n",
              "    <tr>\n",
              "      <th>102204</th>\n",
              "      <td>Bethesda Softworks</td>\n",
              "      <td>[Action]</td>\n",
              "      <td>Wolfenstein II: The New Colossus</td>\n",
              "      <td>Wolfenstein II: The New Colossus</td>\n",
              "      <td>http://store.steampowered.com/app/612880/</td>\n",
              "      <td>2017-10-26</td>\n",
              "      <td>[Action, FPS, Gore, Violent, Alternate History...</td>\n",
              "      <td>http://steamcommunity.com/app/612880/reviews/?...</td>\n",
              "      <td>[Single-player, Steam Achievements, Full contr...</td>\n",
              "      <td>59.99</td>\n",
              "      <td>0.0</td>\n",
              "      <td>612880.0</td>\n",
              "      <td>Machine Games</td>\n",
              "    </tr>\n",
              "    <tr>\n",
              "      <th>102883</th>\n",
              "      <td>Bethesda Softworks</td>\n",
              "      <td>[Action]</td>\n",
              "      <td>Wolfenstein II: The New Colossus</td>\n",
              "      <td>Wolfenstein II: The New Colossus</td>\n",
              "      <td>http://store.steampowered.com/app/612880/Wolfe...</td>\n",
              "      <td>2017-10-26</td>\n",
              "      <td>[Action, FPS, Gore, Violent, Alternate History...</td>\n",
              "      <td>http://steamcommunity.com/app/612880/reviews/?...</td>\n",
              "      <td>[Single-player, Steam Achievements, Full contr...</td>\n",
              "      <td>59.99</td>\n",
              "      <td>0.0</td>\n",
              "      <td>612880.0</td>\n",
              "      <td>Machine Games</td>\n",
              "    </tr>\n",
              "  </tbody>\n",
              "</table>\n",
              "</div>"
            ],
            "text/plain": [
              "                 publisher    genres                          app_name  \\\n",
              "102204  Bethesda Softworks  [Action]  Wolfenstein II: The New Colossus   \n",
              "102883  Bethesda Softworks  [Action]  Wolfenstein II: The New Colossus   \n",
              "\n",
              "                                   title  \\\n",
              "102204  Wolfenstein II: The New Colossus   \n",
              "102883  Wolfenstein II: The New Colossus   \n",
              "\n",
              "                                                      url release_date  \\\n",
              "102204          http://store.steampowered.com/app/612880/   2017-10-26   \n",
              "102883  http://store.steampowered.com/app/612880/Wolfe...   2017-10-26   \n",
              "\n",
              "                                                     tags  \\\n",
              "102204  [Action, FPS, Gore, Violent, Alternate History...   \n",
              "102883  [Action, FPS, Gore, Violent, Alternate History...   \n",
              "\n",
              "                                              reviews_url  \\\n",
              "102204  http://steamcommunity.com/app/612880/reviews/?...   \n",
              "102883  http://steamcommunity.com/app/612880/reviews/?...   \n",
              "\n",
              "                                                    specs  price  \\\n",
              "102204  [Single-player, Steam Achievements, Full contr...  59.99   \n",
              "102883  [Single-player, Steam Achievements, Full contr...  59.99   \n",
              "\n",
              "        early_access        id      developer  \n",
              "102204           0.0  612880.0  Machine Games  \n",
              "102883           0.0  612880.0  Machine Games  "
            ]
          },
          "execution_count": 11,
          "metadata": {},
          "output_type": "execute_result"
        }
      ],
      "source": [
        "#Duplicados\n",
        "duplicados = df_sg['id'].value_counts() > 1\n",
        "df_sg[df_sg['id'].isin(duplicados[duplicados].index)]"
      ]
    },
    {
      "cell_type": "code",
      "execution_count": 12,
      "metadata": {
        "id": "hxz44MOOqur8"
      },
      "outputs": [],
      "source": [
        "#Eliminación de Duplicados\n",
        "df_sg.drop_duplicates(subset=['id'],inplace=True)"
      ]
    },
    {
      "cell_type": "code",
      "execution_count": 13,
      "metadata": {
        "id": "50_iLXTU_NeQ"
      },
      "outputs": [],
      "source": [
        "#Elimino genres vacios\n",
        "df_sg.dropna(subset=['genres'],inplace=True)"
      ]
    },
    {
      "cell_type": "code",
      "execution_count": 14,
      "metadata": {
        "colab": {
          "base_uri": "https://localhost:8080/",
          "height": 153
        },
        "id": "sxhHLiTtHpAL",
        "outputId": "66b319f4-ecdb-411b-a3f8-87e7f06758b9"
      },
      "outputs": [
        {
          "data": {
            "text/html": [
              "<div>\n",
              "<style scoped>\n",
              "    .dataframe tbody tr th:only-of-type {\n",
              "        vertical-align: middle;\n",
              "    }\n",
              "\n",
              "    .dataframe tbody tr th {\n",
              "        vertical-align: top;\n",
              "    }\n",
              "\n",
              "    .dataframe thead th {\n",
              "        text-align: right;\n",
              "    }\n",
              "</style>\n",
              "<table border=\"1\" class=\"dataframe\">\n",
              "  <thead>\n",
              "    <tr style=\"text-align: right;\">\n",
              "      <th></th>\n",
              "      <th>publisher</th>\n",
              "      <th>genres</th>\n",
              "      <th>app_name</th>\n",
              "      <th>title</th>\n",
              "      <th>url</th>\n",
              "      <th>release_date</th>\n",
              "      <th>tags</th>\n",
              "      <th>reviews_url</th>\n",
              "      <th>specs</th>\n",
              "      <th>price</th>\n",
              "      <th>early_access</th>\n",
              "      <th>id</th>\n",
              "      <th>developer</th>\n",
              "    </tr>\n",
              "  </thead>\n",
              "  <tbody>\n",
              "    <tr>\n",
              "      <th>90890</th>\n",
              "      <td>None</td>\n",
              "      <td>[Action, Indie]</td>\n",
              "      <td>None</td>\n",
              "      <td>None</td>\n",
              "      <td>http://store.steampowered.com/app/317160/_/</td>\n",
              "      <td>2014-08-26</td>\n",
              "      <td>[Action, Indie]</td>\n",
              "      <td>http://steamcommunity.com/app/317160/reviews/?...</td>\n",
              "      <td>[Single-player, Game demo]</td>\n",
              "      <td>None</td>\n",
              "      <td>0.0</td>\n",
              "      <td>317160.0</td>\n",
              "      <td>None</td>\n",
              "    </tr>\n",
              "  </tbody>\n",
              "</table>\n",
              "</div>"
            ],
            "text/plain": [
              "      publisher           genres app_name title  \\\n",
              "90890      None  [Action, Indie]     None  None   \n",
              "\n",
              "                                               url release_date  \\\n",
              "90890  http://store.steampowered.com/app/317160/_/   2014-08-26   \n",
              "\n",
              "                  tags                                        reviews_url  \\\n",
              "90890  [Action, Indie]  http://steamcommunity.com/app/317160/reviews/?...   \n",
              "\n",
              "                            specs price  early_access        id developer  \n",
              "90890  [Single-player, Game demo]  None           0.0  317160.0      None  "
            ]
          },
          "execution_count": 14,
          "metadata": {},
          "output_type": "execute_result"
        }
      ],
      "source": [
        "#Búsqueda de nombres de aplicaciones vacias\n",
        "df_sg[df_sg['app_name'].isnull()]"
      ]
    },
    {
      "cell_type": "code",
      "execution_count": 15,
      "metadata": {
        "id": "amBDy2u4H0JA"
      },
      "outputs": [],
      "source": [
        "#Eliminacion de aplicaciones vacias\n",
        "df_sg.dropna(subset=['app_name'],inplace=True)"
      ]
    },
    {
      "cell_type": "code",
      "execution_count": 16,
      "metadata": {
        "id": "x9DmDrNwc2tr"
      },
      "outputs": [],
      "source": [
        "#Eliminacion de columnas no necesarias\n",
        "df_sg = df_sg.drop(columns=['publisher','title','url','reviews_url','early_access','specs','tags','price','developer'])"
      ]
    },
    {
      "cell_type": "code",
      "execution_count": 17,
      "metadata": {
        "colab": {
          "base_uri": "https://localhost:8080/"
        },
        "id": "IT-aN98ZPhmh",
        "outputId": "5268f671-056e-47b0-a3ff-f2dada98ab76"
      },
      "outputs": [
        {
          "data": {
            "text/plain": [
              "genres           0\n",
              "app_name         0\n",
              "release_date    18\n",
              "id               0\n",
              "dtype: int64"
            ]
          },
          "execution_count": 17,
          "metadata": {},
          "output_type": "execute_result"
        }
      ],
      "source": [
        "#Validacion de columnas nulas\n",
        "df_sg.isnull().sum()"
      ]
    },
    {
      "cell_type": "code",
      "execution_count": 18,
      "metadata": {
        "id": "Vjffb6XSdr8D"
      },
      "outputs": [],
      "source": [
        "#Eliminacion de release_date nulas\n",
        "df_sg.dropna(subset=['release_date'],inplace=True)"
      ]
    },
    {
      "cell_type": "code",
      "execution_count": 19,
      "metadata": {
        "colab": {
          "base_uri": "https://localhost:8080/",
          "height": 424
        },
        "id": "Uko8me3J4obI",
        "outputId": "c0d42939-449a-4b7b-a891-c6c9fc353c55"
      },
      "outputs": [],
      "source": [
        "#Filtro año de fechas correctas\n",
        "import re\n",
        "\n",
        "def filtrar_dataframe_formato_fecha(df, nombre_columna):\n",
        "    # Definir el patron  regex 'YYYY-MM-DD'\n",
        "    patron_fecha = re.compile(r'^\\d{4}-\\d{2}-\\d{2}$')\n",
        "\n",
        "    # Filtrar filas con el correcto formato de fecha\n",
        "    mask = df[nombre_columna].astype(str).str.match(patron_fecha)\n",
        "    df_filtrado = df[mask]\n",
        "\n",
        "    return df_filtrado\n",
        "\n",
        "df_sg = filtrar_dataframe_formato_fecha(df_sg, 'release_date')"
      ]
    },
    {
      "cell_type": "code",
      "execution_count": 20,
      "metadata": {
        "id": "FoaiQuNWcMnG"
      },
      "outputs": [],
      "source": [
        "# Convierto id a entero\n",
        "df_sg['id'] = df_sg['id'].astype('int')"
      ]
    },
    {
      "cell_type": "code",
      "execution_count": 21,
      "metadata": {
        "id": "0-Awhuqti7w-"
      },
      "outputs": [],
      "source": [
        "# Convierto fecha a Año\n",
        "df_sg['release_date'] = pd.to_datetime(df_sg['release_date'], errors='coerce')\n",
        "df_sg['release_date'] = df_sg['release_date'].dt.year"
      ]
    },
    {
      "cell_type": "code",
      "execution_count": 22,
      "metadata": {
        "colab": {
          "base_uri": "https://localhost:8080/",
          "height": 206
        },
        "id": "9k2uDoFYjcO-",
        "outputId": "b93fa148-6dd5-4177-c760-ecd158d37256"
      },
      "outputs": [
        {
          "data": {
            "text/html": [
              "<div>\n",
              "<style scoped>\n",
              "    .dataframe tbody tr th:only-of-type {\n",
              "        vertical-align: middle;\n",
              "    }\n",
              "\n",
              "    .dataframe tbody tr th {\n",
              "        vertical-align: top;\n",
              "    }\n",
              "\n",
              "    .dataframe thead th {\n",
              "        text-align: right;\n",
              "    }\n",
              "</style>\n",
              "<table border=\"1\" class=\"dataframe\">\n",
              "  <thead>\n",
              "    <tr style=\"text-align: right;\">\n",
              "      <th></th>\n",
              "      <th>item_id</th>\n",
              "      <th>genres</th>\n",
              "      <th>app_name</th>\n",
              "      <th>release_date</th>\n",
              "    </tr>\n",
              "  </thead>\n",
              "  <tbody>\n",
              "    <tr>\n",
              "      <th>88310</th>\n",
              "      <td>761140</td>\n",
              "      <td>[Action, Casual, Indie, Simulation, Strategy]</td>\n",
              "      <td>Lost Summoner Kitty</td>\n",
              "      <td>2018</td>\n",
              "    </tr>\n",
              "    <tr>\n",
              "      <th>88311</th>\n",
              "      <td>643980</td>\n",
              "      <td>[Free to Play, Indie, RPG, Strategy]</td>\n",
              "      <td>Ironbound</td>\n",
              "      <td>2018</td>\n",
              "    </tr>\n",
              "    <tr>\n",
              "      <th>88312</th>\n",
              "      <td>670290</td>\n",
              "      <td>[Casual, Free to Play, Indie, Simulation, Sports]</td>\n",
              "      <td>Real Pool 3D - Poolians</td>\n",
              "      <td>2017</td>\n",
              "    </tr>\n",
              "    <tr>\n",
              "      <th>88313</th>\n",
              "      <td>767400</td>\n",
              "      <td>[Action, Adventure, Casual]</td>\n",
              "      <td>弹炸人2222</td>\n",
              "      <td>2017</td>\n",
              "    </tr>\n",
              "    <tr>\n",
              "      <th>88315</th>\n",
              "      <td>772540</td>\n",
              "      <td>[Action, Adventure, Simulation]</td>\n",
              "      <td>Battle Royale Trainer</td>\n",
              "      <td>2018</td>\n",
              "    </tr>\n",
              "  </tbody>\n",
              "</table>\n",
              "</div>"
            ],
            "text/plain": [
              "       item_id                                             genres  \\\n",
              "88310   761140      [Action, Casual, Indie, Simulation, Strategy]   \n",
              "88311   643980               [Free to Play, Indie, RPG, Strategy]   \n",
              "88312   670290  [Casual, Free to Play, Indie, Simulation, Sports]   \n",
              "88313   767400                        [Action, Adventure, Casual]   \n",
              "88315   772540                    [Action, Adventure, Simulation]   \n",
              "\n",
              "                      app_name  release_date  \n",
              "88310      Lost Summoner Kitty          2018  \n",
              "88311                Ironbound          2018  \n",
              "88312  Real Pool 3D - Poolians          2017  \n",
              "88313                  弹炸人2222          2017  \n",
              "88315    Battle Royale Trainer          2018  "
            ]
          },
          "execution_count": 22,
          "metadata": {},
          "output_type": "execute_result"
        }
      ],
      "source": [
        "\n",
        "# Mover la columna 'id' al principio, renombrarla por item_id y cambiar el tipo a int\n",
        "df_sg.columns.get_loc('id')\n",
        "nuevas_columnas = ['id'] + [columna for columna in df_sg.columns if columna != 'id']\n",
        "df_sg = df_sg[nuevas_columnas]\n",
        "df_sg.rename(columns={'id': 'item_id'}, inplace=True)\n",
        "df_sg['item_id'] = df_sg['item_id'].astype('int')\n",
        "# Mostrar las primeras filas del DataFrame con 'id' en la primera posición\n",
        "df_sg.head()"
      ]
    },
    {
      "cell_type": "code",
      "execution_count": 23,
      "metadata": {
        "id": "3C5fFutkV6OH"
      },
      "outputs": [
        {
          "data": {
            "text/html": [
              "<div>\n",
              "<style scoped>\n",
              "    .dataframe tbody tr th:only-of-type {\n",
              "        vertical-align: middle;\n",
              "    }\n",
              "\n",
              "    .dataframe tbody tr th {\n",
              "        vertical-align: top;\n",
              "    }\n",
              "\n",
              "    .dataframe thead th {\n",
              "        text-align: right;\n",
              "    }\n",
              "</style>\n",
              "<table border=\"1\" class=\"dataframe\">\n",
              "  <thead>\n",
              "    <tr style=\"text-align: right;\">\n",
              "      <th></th>\n",
              "      <th>item_id</th>\n",
              "      <th>genres</th>\n",
              "      <th>app_name</th>\n",
              "      <th>release_date</th>\n",
              "    </tr>\n",
              "  </thead>\n",
              "  <tbody>\n",
              "    <tr>\n",
              "      <th>0</th>\n",
              "      <td>761140</td>\n",
              "      <td>Action</td>\n",
              "      <td>Lost Summoner Kitty</td>\n",
              "      <td>2018</td>\n",
              "    </tr>\n",
              "    <tr>\n",
              "      <th>1</th>\n",
              "      <td>761140</td>\n",
              "      <td>Casual</td>\n",
              "      <td>Lost Summoner Kitty</td>\n",
              "      <td>2018</td>\n",
              "    </tr>\n",
              "    <tr>\n",
              "      <th>2</th>\n",
              "      <td>761140</td>\n",
              "      <td>Indie</td>\n",
              "      <td>Lost Summoner Kitty</td>\n",
              "      <td>2018</td>\n",
              "    </tr>\n",
              "    <tr>\n",
              "      <th>3</th>\n",
              "      <td>761140</td>\n",
              "      <td>Simulation</td>\n",
              "      <td>Lost Summoner Kitty</td>\n",
              "      <td>2018</td>\n",
              "    </tr>\n",
              "    <tr>\n",
              "      <th>4</th>\n",
              "      <td>761140</td>\n",
              "      <td>Strategy</td>\n",
              "      <td>Lost Summoner Kitty</td>\n",
              "      <td>2018</td>\n",
              "    </tr>\n",
              "  </tbody>\n",
              "</table>\n",
              "</div>"
            ],
            "text/plain": [
              "   item_id      genres             app_name  release_date\n",
              "0   761140      Action  Lost Summoner Kitty          2018\n",
              "1   761140      Casual  Lost Summoner Kitty          2018\n",
              "2   761140       Indie  Lost Summoner Kitty          2018\n",
              "3   761140  Simulation  Lost Summoner Kitty          2018\n",
              "4   761140    Strategy  Lost Summoner Kitty          2018"
            ]
          },
          "execution_count": 23,
          "metadata": {},
          "output_type": "execute_result"
        }
      ],
      "source": [
        "#Desanidar genres y eliminar columna index\n",
        "df_sg = df_sg.explode('genres').reset_index()\n",
        "df_sg = df_sg.drop(columns=\"index\")\n",
        "df_sg.head()"
      ]
    },
    {
      "cell_type": "code",
      "execution_count": 30,
      "metadata": {
        "colab": {
          "base_uri": "https://localhost:8080/"
        },
        "id": "oVJ3W2i2CTAV",
        "outputId": "e3bc5821-c447-488d-f79a-ec71193a20e7"
      },
      "outputs": [],
      "source": [
        "#Obtener generos unicos\n",
        "#df_generos_diferentes = df_sg['genres'].unique()\n",
        "#df_generos_diferentes.sort()"
      ]
    },
    {
      "cell_type": "code",
      "execution_count": 27,
      "metadata": {
        "id": "JMcTGNxjA4Xo"
      },
      "outputs": [],
      "source": [
        "# Guardo Dataframe en csv\n",
        "#df_sg.to_csv('/content/drive/MyDrive/PI_ML_OPS-PT/Dataset/df_sg.csv',index=False)\n",
        "df_sg.to_csv('./Dataset/df_sg.csv',index=False)"
      ]
    },
    {
      "cell_type": "code",
      "execution_count": 29,
      "metadata": {
        "id": "nFpZWLDgA4MN"
      },
      "outputs": [
        {
          "data": {
            "text/html": [
              "<div>\n",
              "<style scoped>\n",
              "    .dataframe tbody tr th:only-of-type {\n",
              "        vertical-align: middle;\n",
              "    }\n",
              "\n",
              "    .dataframe tbody tr th {\n",
              "        vertical-align: top;\n",
              "    }\n",
              "\n",
              "    .dataframe thead th {\n",
              "        text-align: right;\n",
              "    }\n",
              "</style>\n",
              "<table border=\"1\" class=\"dataframe\">\n",
              "  <thead>\n",
              "    <tr style=\"text-align: right;\">\n",
              "      <th></th>\n",
              "      <th>item_id</th>\n",
              "      <th>genres</th>\n",
              "      <th>app_name</th>\n",
              "      <th>release_date</th>\n",
              "    </tr>\n",
              "  </thead>\n",
              "  <tbody>\n",
              "    <tr>\n",
              "      <th>0</th>\n",
              "      <td>761140</td>\n",
              "      <td>Action</td>\n",
              "      <td>Lost Summoner Kitty</td>\n",
              "      <td>2018</td>\n",
              "    </tr>\n",
              "    <tr>\n",
              "      <th>1</th>\n",
              "      <td>761140</td>\n",
              "      <td>Casual</td>\n",
              "      <td>Lost Summoner Kitty</td>\n",
              "      <td>2018</td>\n",
              "    </tr>\n",
              "    <tr>\n",
              "      <th>2</th>\n",
              "      <td>761140</td>\n",
              "      <td>Indie</td>\n",
              "      <td>Lost Summoner Kitty</td>\n",
              "      <td>2018</td>\n",
              "    </tr>\n",
              "    <tr>\n",
              "      <th>3</th>\n",
              "      <td>761140</td>\n",
              "      <td>Simulation</td>\n",
              "      <td>Lost Summoner Kitty</td>\n",
              "      <td>2018</td>\n",
              "    </tr>\n",
              "    <tr>\n",
              "      <th>4</th>\n",
              "      <td>761140</td>\n",
              "      <td>Strategy</td>\n",
              "      <td>Lost Summoner Kitty</td>\n",
              "      <td>2018</td>\n",
              "    </tr>\n",
              "    <tr>\n",
              "      <th>...</th>\n",
              "      <td>...</td>\n",
              "      <td>...</td>\n",
              "      <td>...</td>\n",
              "      <td>...</td>\n",
              "    </tr>\n",
              "    <tr>\n",
              "      <th>70694</th>\n",
              "      <td>610660</td>\n",
              "      <td>Indie</td>\n",
              "      <td>Russian Roads</td>\n",
              "      <td>2018</td>\n",
              "    </tr>\n",
              "    <tr>\n",
              "      <th>70695</th>\n",
              "      <td>610660</td>\n",
              "      <td>Racing</td>\n",
              "      <td>Russian Roads</td>\n",
              "      <td>2018</td>\n",
              "    </tr>\n",
              "    <tr>\n",
              "      <th>70696</th>\n",
              "      <td>610660</td>\n",
              "      <td>Simulation</td>\n",
              "      <td>Russian Roads</td>\n",
              "      <td>2018</td>\n",
              "    </tr>\n",
              "    <tr>\n",
              "      <th>70697</th>\n",
              "      <td>658870</td>\n",
              "      <td>Casual</td>\n",
              "      <td>EXIT 2 - Directions</td>\n",
              "      <td>2017</td>\n",
              "    </tr>\n",
              "    <tr>\n",
              "      <th>70698</th>\n",
              "      <td>658870</td>\n",
              "      <td>Indie</td>\n",
              "      <td>EXIT 2 - Directions</td>\n",
              "      <td>2017</td>\n",
              "    </tr>\n",
              "  </tbody>\n",
              "</table>\n",
              "<p>70699 rows × 4 columns</p>\n",
              "</div>"
            ],
            "text/plain": [
              "       item_id      genres             app_name  release_date\n",
              "0       761140      Action  Lost Summoner Kitty          2018\n",
              "1       761140      Casual  Lost Summoner Kitty          2018\n",
              "2       761140       Indie  Lost Summoner Kitty          2018\n",
              "3       761140  Simulation  Lost Summoner Kitty          2018\n",
              "4       761140    Strategy  Lost Summoner Kitty          2018\n",
              "...        ...         ...                  ...           ...\n",
              "70694   610660       Indie        Russian Roads          2018\n",
              "70695   610660      Racing        Russian Roads          2018\n",
              "70696   610660  Simulation        Russian Roads          2018\n",
              "70697   658870      Casual  EXIT 2 - Directions          2017\n",
              "70698   658870       Indie  EXIT 2 - Directions          2017\n",
              "\n",
              "[70699 rows x 4 columns]"
            ]
          },
          "execution_count": 29,
          "metadata": {},
          "output_type": "execute_result"
        }
      ],
      "source": [
        "df_sg"
      ]
    },
    {
      "cell_type": "code",
      "execution_count": null,
      "metadata": {},
      "outputs": [],
      "source": []
    }
  ],
  "metadata": {
    "colab": {
      "provenance": []
    },
    "kernelspec": {
      "display_name": "Python 3",
      "name": "python3"
    },
    "language_info": {
      "codemirror_mode": {
        "name": "ipython",
        "version": 3
      },
      "file_extension": ".py",
      "mimetype": "text/x-python",
      "name": "python",
      "nbconvert_exporter": "python",
      "pygments_lexer": "ipython3",
      "version": "3.10.10"
    }
  },
  "nbformat": 4,
  "nbformat_minor": 0
}

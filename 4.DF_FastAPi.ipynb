{
  "cells": [
    {
      "cell_type": "code",
      "execution_count": 3,
      "metadata": {
        "id": "10WAiMggKJhh"
      },
      "outputs": [],
      "source": [
        "#User Items\n",
        "#Importo Librerias\n",
        "import pandas as pd\n",
        "import gzip"
      ]
    },
    {
      "cell_type": "markdown",
      "metadata": {},
      "source": [
        "PlayTimeGenre"
      ]
    },
    {
      "cell_type": "code",
      "execution_count": 4,
      "metadata": {},
      "outputs": [],
      "source": [
        "# Asigno al DataFrame el archivo csv df_sg.csv\n",
        "#df_sg=pd.read_csv('/content/drive/MyDrive/PI_ML_OPS-PT/Dataset/df_sg.csv')\n",
        "df_sg=pd.read_csv('./Dataset/df_sg.csv')"
      ]
    },
    {
      "cell_type": "code",
      "execution_count": 118,
      "metadata": {},
      "outputs": [],
      "source": [
        "# Asigno al DataFrame el archivo csv df_ui.csv.gz\n",
        "#df_ui = pd.read_csv('/content/drive/MyDrive/PI_ML_OPS-PT/Dataset/df_ui.csv.gz', compression='gzip')\n",
        "df_ui = pd.read_csv('./Dataset/df_ui.csv.gz', compression='gzip')"
      ]
    },
    {
      "cell_type": "code",
      "execution_count": 119,
      "metadata": {
        "id": "O8uZGxh2Rdvs"
      },
      "outputs": [
        {
          "data": {
            "text/html": [
              "<div>\n",
              "<style scoped>\n",
              "    .dataframe tbody tr th:only-of-type {\n",
              "        vertical-align: middle;\n",
              "    }\n",
              "\n",
              "    .dataframe tbody tr th {\n",
              "        vertical-align: top;\n",
              "    }\n",
              "\n",
              "    .dataframe thead th {\n",
              "        text-align: right;\n",
              "    }\n",
              "</style>\n",
              "<table border=\"1\" class=\"dataframe\">\n",
              "  <thead>\n",
              "    <tr style=\"text-align: right;\">\n",
              "      <th></th>\n",
              "      <th>item_id</th>\n",
              "      <th>genres</th>\n",
              "      <th>release_date</th>\n",
              "      <th>playtime_forever</th>\n",
              "    </tr>\n",
              "  </thead>\n",
              "  <tbody>\n",
              "    <tr>\n",
              "      <th>0</th>\n",
              "      <td>761140</td>\n",
              "      <td>Action</td>\n",
              "      <td>2018</td>\n",
              "      <td>NaN</td>\n",
              "    </tr>\n",
              "    <tr>\n",
              "      <th>1</th>\n",
              "      <td>761140</td>\n",
              "      <td>Casual</td>\n",
              "      <td>2018</td>\n",
              "      <td>NaN</td>\n",
              "    </tr>\n",
              "    <tr>\n",
              "      <th>2</th>\n",
              "      <td>761140</td>\n",
              "      <td>Indie</td>\n",
              "      <td>2018</td>\n",
              "      <td>NaN</td>\n",
              "    </tr>\n",
              "    <tr>\n",
              "      <th>3</th>\n",
              "      <td>761140</td>\n",
              "      <td>Simulation</td>\n",
              "      <td>2018</td>\n",
              "      <td>NaN</td>\n",
              "    </tr>\n",
              "    <tr>\n",
              "      <th>4</th>\n",
              "      <td>761140</td>\n",
              "      <td>Strategy</td>\n",
              "      <td>2018</td>\n",
              "      <td>NaN</td>\n",
              "    </tr>\n",
              "  </tbody>\n",
              "</table>\n",
              "</div>"
            ],
            "text/plain": [
              "   item_id      genres  release_date  playtime_forever\n",
              "0   761140      Action          2018               NaN\n",
              "1   761140      Casual          2018               NaN\n",
              "2   761140       Indie          2018               NaN\n",
              "3   761140  Simulation          2018               NaN\n",
              "4   761140    Strategy          2018               NaN"
            ]
          },
          "execution_count": 119,
          "metadata": {},
          "output_type": "execute_result"
        }
      ],
      "source": [
        "# Crear dataframe base de PlayTimeGenre\n",
        "df_sgui_pg=pd.merge(df_sg[['item_id','genres','release_date']],df_ui[['item_id','playtime_forever']],on='item_id',how='left')\n",
        "df_sgui_pg.head()"
      ]
    },
    {
      "cell_type": "code",
      "execution_count": 5,
      "metadata": {
        "id": "N9_Qm9g4BdBy"
      },
      "outputs": [],
      "source": [
        "# Elimino nulos\n",
        "df_sgui_pg.dropna(inplace=True)"
      ]
    },
    {
      "cell_type": "code",
      "execution_count": null,
      "metadata": {},
      "outputs": [],
      "source": []
    },
    {
      "cell_type": "code",
      "execution_count": 6,
      "metadata": {
        "id": "9rk79UabFuzX"
      },
      "outputs": [
        {
          "data": {
            "text/html": [
              "<div>\n",
              "<style scoped>\n",
              "    .dataframe tbody tr th:only-of-type {\n",
              "        vertical-align: middle;\n",
              "    }\n",
              "\n",
              "    .dataframe tbody tr th {\n",
              "        vertical-align: top;\n",
              "    }\n",
              "\n",
              "    .dataframe thead th {\n",
              "        text-align: right;\n",
              "    }\n",
              "</style>\n",
              "<table border=\"1\" class=\"dataframe\">\n",
              "  <thead>\n",
              "    <tr style=\"text-align: right;\">\n",
              "      <th></th>\n",
              "      <th>genres</th>\n",
              "      <th>release_date</th>\n",
              "      <th>playtime_forever</th>\n",
              "    </tr>\n",
              "  </thead>\n",
              "  <tbody>\n",
              "    <tr>\n",
              "      <th>0</th>\n",
              "      <td>Action</td>\n",
              "      <td>1983</td>\n",
              "      <td>3582.0</td>\n",
              "    </tr>\n",
              "    <tr>\n",
              "      <th>1</th>\n",
              "      <td>Action</td>\n",
              "      <td>1984</td>\n",
              "      <td>384.0</td>\n",
              "    </tr>\n",
              "    <tr>\n",
              "      <th>2</th>\n",
              "      <td>Action</td>\n",
              "      <td>1988</td>\n",
              "      <td>16243.0</td>\n",
              "    </tr>\n",
              "    <tr>\n",
              "      <th>3</th>\n",
              "      <td>Action</td>\n",
              "      <td>1989</td>\n",
              "      <td>607.0</td>\n",
              "    </tr>\n",
              "    <tr>\n",
              "      <th>4</th>\n",
              "      <td>Action</td>\n",
              "      <td>1990</td>\n",
              "      <td>18787.0</td>\n",
              "    </tr>\n",
              "  </tbody>\n",
              "</table>\n",
              "</div>"
            ],
            "text/plain": [
              "   genres  release_date  playtime_forever\n",
              "0  Action          1983            3582.0\n",
              "1  Action          1984             384.0\n",
              "2  Action          1988           16243.0\n",
              "3  Action          1989             607.0\n",
              "4  Action          1990           18787.0"
            ]
          },
          "execution_count": 6,
          "metadata": {},
          "output_type": "execute_result"
        }
      ],
      "source": [
        "# Creo dataframe final para PlayTimeGenre\n",
        "df_PlayTimeGenre = df_sgui_pg.groupby(['genres', 'release_date'])['playtime_forever'].sum().reset_index()\n",
        "df_PlayTimeGenre.head()"
      ]
    },
    {
      "cell_type": "code",
      "execution_count": 7,
      "metadata": {
        "id": "QKf6m9CQURG5"
      },
      "outputs": [],
      "source": [
        "# Guardo dataframe en PlayTimeGenre.csv\n",
        "#df_PlayTimeGenre.to_csv('/content/drive/MyDrive/PI_ML_OPS-PT/Dataset/df_PlayTimeGenre.csv',index=False)\n",
        "df_PlayTimeGenre.to_csv('./Dataset/df_PlayTimeGenre.csv',index=False)"
      ]
    },
    {
      "cell_type": "code",
      "execution_count": 8,
      "metadata": {
        "colab": {
          "base_uri": "https://localhost:8080/"
        },
        "id": "Okj_jfoUZl2S",
        "outputId": "9ae1b376-dddb-4f4c-bb89-c5747b8c54f0"
      },
      "outputs": [
        {
          "data": {
            "text/plain": [
              "{'Año de lanzamiento con más horas jugadas para Género RPG': 2011}"
            ]
          },
          "execution_count": 8,
          "metadata": {},
          "output_type": "execute_result"
        }
      ],
      "source": [
        "#Funcion PlayTimeGenre\n",
        "genre='RPG'\n",
        "#df_playtimegenre= pd.read_csv('/content/drive/MyDrive/PI_ML_OPS-PT/Dataset/df_PlayTimeGenre.csv')\n",
        "df_playtimegenre= pd.read_csv('./Dataset/df_PlayTimeGenre.csv')\n",
        "df_filtered_by_genre = df_playtimegenre[df_playtimegenre['genres'] == genre]\n",
        "gender_hours = df_filtered_by_genre.groupby('release_date')['playtime_forever'].sum()\n",
        "max_time_play_gender = gender_hours.idxmax()\n",
        "result = {\n",
        "  \"Año de lanzamiento con más horas jugadas para Género {}\".format(genre) : max_time_play_gender\n",
        "  }\n",
        "result"
      ]
    },
    {
      "cell_type": "markdown",
      "metadata": {},
      "source": [
        "UserForGenre"
      ]
    },
    {
      "cell_type": "code",
      "execution_count": 14,
      "metadata": {
        "colab": {
          "base_uri": "https://localhost:8080/"
        },
        "id": "IEXe0Uz2tUBd",
        "outputId": "6e57ff91-846b-4678-de05-4477c41a01ba"
      },
      "outputs": [],
      "source": [
        "# Creo Lista de Generos\n",
        "df_generos_diferentes = df_sg['genres'].unique()\n",
        "df_generos_diferentes.sort()"
      ]
    },
    {
      "cell_type": "code",
      "execution_count": 77,
      "metadata": {
        "colab": {
          "base_uri": "https://localhost:8080/",
          "height": 424
        },
        "id": "sjHgbFq0azIJ",
        "outputId": "a97992d6-7d90-4da3-e90c-e858f945038d"
      },
      "outputs": [
        {
          "data": {
            "text/html": [
              "<div>\n",
              "<style scoped>\n",
              "    .dataframe tbody tr th:only-of-type {\n",
              "        vertical-align: middle;\n",
              "    }\n",
              "\n",
              "    .dataframe tbody tr th {\n",
              "        vertical-align: top;\n",
              "    }\n",
              "\n",
              "    .dataframe thead th {\n",
              "        text-align: right;\n",
              "    }\n",
              "</style>\n",
              "<table border=\"1\" class=\"dataframe\">\n",
              "  <thead>\n",
              "    <tr style=\"text-align: right;\">\n",
              "      <th></th>\n",
              "      <th>user_id</th>\n",
              "      <th>genres</th>\n",
              "      <th>release_date</th>\n",
              "      <th>playtime_forever</th>\n",
              "    </tr>\n",
              "  </thead>\n",
              "  <tbody>\n",
              "    <tr>\n",
              "      <th>0</th>\n",
              "      <td>Sp3ctre</td>\n",
              "      <td>Action</td>\n",
              "      <td>1995</td>\n",
              "      <td>3</td>\n",
              "    </tr>\n",
              "    <tr>\n",
              "      <th>1</th>\n",
              "      <td>Sp3ctre</td>\n",
              "      <td>Action</td>\n",
              "      <td>2000</td>\n",
              "      <td>1177</td>\n",
              "    </tr>\n",
              "    <tr>\n",
              "      <th>2</th>\n",
              "      <td>Sp3ctre</td>\n",
              "      <td>Action</td>\n",
              "      <td>2002</td>\n",
              "      <td>3</td>\n",
              "    </tr>\n",
              "    <tr>\n",
              "      <th>3</th>\n",
              "      <td>Sp3ctre</td>\n",
              "      <td>Action</td>\n",
              "      <td>2003</td>\n",
              "      <td>127</td>\n",
              "    </tr>\n",
              "    <tr>\n",
              "      <th>4</th>\n",
              "      <td>Sp3ctre</td>\n",
              "      <td>Action</td>\n",
              "      <td>2004</td>\n",
              "      <td>2123</td>\n",
              "    </tr>\n",
              "  </tbody>\n",
              "</table>\n",
              "</div>"
            ],
            "text/plain": [
              "   user_id  genres release_date  playtime_forever\n",
              "0  Sp3ctre  Action         1995                 3\n",
              "1  Sp3ctre  Action         2000              1177\n",
              "2  Sp3ctre  Action         2002                 3\n",
              "3  Sp3ctre  Action         2003               127\n",
              "4  Sp3ctre  Action         2004              2123"
            ]
          },
          "execution_count": 77,
          "metadata": {},
          "output_type": "execute_result"
        }
      ],
      "source": [
        "# Relaciono dataframes steam_games con user_items\n",
        "df_sgui_gu=pd.merge(df_sg[['item_id','genres','release_date']],df_ui[['item_id','playtime_forever','user_id']],on='item_id',how='left')\n",
        "df_sgui_gu.dropna(inplace=True)\n",
        "\n",
        "# Creo lista de generos\n",
        "usuario_por_genero = []\n",
        "df_UserForGenre = pd.DataFrame(columns=['user_id', 'genres', 'release_date', 'playtime_forever'])\n",
        "\n",
        "\n",
        "for genero in df_generos_diferentes:\n",
        "    # Filtramos las filas del género actual\n",
        "    df_genero = df_sgui_gu[df_sgui_gu['genres'] == genero]\n",
        "    # Filtramos el usuario del género actual\n",
        "    if not df_genero.empty:\n",
        "        # Filtramos al usuario con mayor 'playtime_forever' del género actual\n",
        "        df_usuario = df_genero.groupby('user_id')['playtime_forever'].sum().div(60).idxmax()\n",
        "        # Agrupamos los datos por usuario, genero y año y calculamos la suma de 'playtime_forever'\n",
        "        df_usuario_genero_año = df_genero[df_genero['user_id'] == df_usuario].groupby(['user_id','genres', 'release_date'])['playtime_forever'].sum().div(60).reset_index()\n",
        "        # Agregamos el df_usuario_genero_año a la lista usuario_por_genero\n",
        "        usuario_por_genero.append(df_usuario_genero_año)\n",
        "    else:\n",
        "        pass\n",
        "# Convertimos los resultados en un DataFrame\n",
        "for df in usuario_por_genero:\n",
        "    # Agregamos al DataFrame df_UserForGenre los dataframes de cada genero y usuario\n",
        "    df_UserForGenre = pd.concat([df_UserForGenre, df], ignore_index=True)\n",
        "df_UserForGenre['playtime_forever'] = df_UserForGenre['playtime_forever'].astype('int')\n",
        "df_UserForGenre.drop(df_UserForGenre[df_UserForGenre['playtime_forever'] == 0].index, inplace=True)\n",
        "df_UserForGenre = df_UserForGenre.reset_index(drop=True)\n",
        "df_UserForGenre.head()"
      ]
    },
    {
      "cell_type": "code",
      "execution_count": 47,
      "metadata": {
        "id": "-pldittVaNB6"
      },
      "outputs": [],
      "source": [
        "# Guardo Dataframe en df_UserForGenre.csv\n",
        "# df_UserForGenre.to_csv('/content/drive/MyDrive/PI_ML_OPS-PT/Dataset/df_UserForGenre.csv',index=False)\n",
        "df_UserForGenre.to_csv('./Dataset/df_UserForGenre.csv',index=False)"
      ]
    },
    {
      "cell_type": "code",
      "execution_count": 48,
      "metadata": {
        "colab": {
          "base_uri": "https://localhost:8080/"
        },
        "id": "1yQf_BUcaMzW",
        "outputId": "604611b7-ba99-4772-ecdf-49bbe2a07b2c"
      },
      "outputs": [
        {
          "data": {
            "text/plain": [
              "{'Usuario con más horas jugadas para genero Action': 'Sp3ctre',\n",
              " 'Horas jugadas': [{'Año': 1995, 'Horas': 3},\n",
              "  {'Año': 2000, 'Horas': 1177},\n",
              "  {'Año': 2002, 'Horas': 3},\n",
              "  {'Año': 2003, 'Horas': 127},\n",
              "  {'Año': 2004, 'Horas': 2123},\n",
              "  {'Año': 2005, 'Horas': 355},\n",
              "  {'Año': 2006, 'Horas': 14},\n",
              "  {'Año': 2007, 'Horas': 1879},\n",
              "  {'Año': 2008, 'Horas': 3},\n",
              "  {'Año': 2009, 'Horas': 1805},\n",
              "  {'Año': 2010, 'Horas': 1301},\n",
              "  {'Año': 2011, 'Horas': 2581},\n",
              "  {'Año': 2012, 'Horas': 6304},\n",
              "  {'Año': 2013, 'Horas': 2007},\n",
              "  {'Año': 2014, 'Horas': 2178},\n",
              "  {'Año': 2015, 'Horas': 5125},\n",
              "  {'Año': 2016, 'Horas': 492},\n",
              "  {'Año': 2017, 'Horas': 722}]}"
            ]
          },
          "execution_count": 48,
          "metadata": {},
          "output_type": "execute_result"
        }
      ],
      "source": [
        "#Funcion UserForGenre\n",
        "genre='Action'\n",
        "# df_userforgenre= pd.read_csv('/content/drive/MyDrive/PI_ML_OPS-PT/Dataset/df_UserForGenre.csv')\n",
        "df_userforgenre= pd.read_csv('./Dataset/df_UserForGenre.csv')\n",
        "df_filtered_by_genre = df_userforgenre[df_userforgenre['genres']==genre]\n",
        "\n",
        "user_hours = df_filtered_by_genre.groupby('user_id')['playtime_forever'].sum()\n",
        "max_time_play_user = user_hours.idxmax()\n",
        "\n",
        "max_user_df = df_filtered_by_genre[df_filtered_by_genre['user_id'] == max_time_play_user]\n",
        "hours_by_year = max_user_df.groupby('release_date')['playtime_forever'].sum().reset_index()\n",
        "\n",
        "hours_years_list = [\n",
        "    {'Año':year, 'Horas': hours} for year, hours in zip(hours_by_year['release_date'],hours_by_year['playtime_forever'])\n",
        "                    ]\n",
        "result = {\n",
        "  'Usuario con más horas jugadas para genero {}'.format(genre):max_time_play_user,\n",
        "  'Horas jugadas': hours_years_list\n",
        "  }\n",
        "result"
      ]
    },
    {
      "cell_type": "markdown",
      "metadata": {},
      "source": [
        "UsersRecommend"
      ]
    },
    {
      "cell_type": "code",
      "execution_count": 157,
      "metadata": {},
      "outputs": [
        {
          "data": {
            "text/html": [
              "<div>\n",
              "<style scoped>\n",
              "    .dataframe tbody tr th:only-of-type {\n",
              "        vertical-align: middle;\n",
              "    }\n",
              "\n",
              "    .dataframe tbody tr th {\n",
              "        vertical-align: top;\n",
              "    }\n",
              "\n",
              "    .dataframe thead th {\n",
              "        text-align: right;\n",
              "    }\n",
              "</style>\n",
              "<table border=\"1\" class=\"dataframe\">\n",
              "  <thead>\n",
              "    <tr style=\"text-align: right;\">\n",
              "      <th></th>\n",
              "      <th>app_name</th>\n",
              "      <th>Count</th>\n",
              "      <th>release_date</th>\n",
              "    </tr>\n",
              "  </thead>\n",
              "  <tbody>\n",
              "    <tr>\n",
              "      <th>0</th>\n",
              "      <td>Sword of the Samurai</td>\n",
              "      <td>1</td>\n",
              "      <td>1989</td>\n",
              "    </tr>\n",
              "    <tr>\n",
              "      <th>1</th>\n",
              "      <td>Commander Keen</td>\n",
              "      <td>3</td>\n",
              "      <td>1990</td>\n",
              "    </tr>\n",
              "    <tr>\n",
              "      <th>2</th>\n",
              "      <td>LOOM™</td>\n",
              "      <td>1</td>\n",
              "      <td>1990</td>\n",
              "    </tr>\n",
              "    <tr>\n",
              "      <th>3</th>\n",
              "      <td>Crystal Caves</td>\n",
              "      <td>1</td>\n",
              "      <td>1991</td>\n",
              "    </tr>\n",
              "    <tr>\n",
              "      <th>4</th>\n",
              "      <td>Putt-Putt® Joins the Parade</td>\n",
              "      <td>1</td>\n",
              "      <td>1992</td>\n",
              "    </tr>\n",
              "  </tbody>\n",
              "</table>\n",
              "</div>"
            ],
            "text/plain": [
              "                      app_name Count release_date\n",
              "0         Sword of the Samurai     1         1989\n",
              "1               Commander Keen     3         1990\n",
              "2                        LOOM™     1         1990\n",
              "3                Crystal Caves     1         1991\n",
              "4  Putt-Putt® Joins the Parade     1         1992"
            ]
          },
          "execution_count": 157,
          "metadata": {},
          "output_type": "execute_result"
        }
      ],
      "source": [
        "# Asigno al DataFrame el archivo csv df_ur.csv\n",
        "#df_ur=pd.read_csv('/content/drive/MyDrive/PI_ML_OPS-PT/Dataset/df_ur.csv')\n",
        "df_ur=pd.read_csv('./Dataset/df_ur.csv')\n",
        "# Filtro el dataframe por recomendado positiva o neutral \n",
        "df_ur_r = df_ur[\n",
        "    (df_ur['recommend'] == True) &\n",
        "    (df_ur['sentiment_analysis'] != 0)] \n",
        "\n",
        "df_sg_r = df_sg[['item_id', 'app_name','release_date']].drop_duplicates().reset_index(drop=True)\n",
        "#Merge de los dataframes de steam_games filtrados y user_reviews filtrados\n",
        "df_sgur_r=pd.merge(df_sg_r[['item_id', 'app_name','release_date']],df_ur_r[['item_id','recommend','sentiment_analysis']],on='item_id',how='inner')\n",
        "\n",
        "# Creo Lista de Años\n",
        "df_años_diferentes = df_sg_r['release_date'].unique()\n",
        "df_años_diferentes.sort()\n",
        "#df_años_diferentes\n",
        "\n",
        "# Creo lista de años\n",
        "app_por_año = []\n",
        "df_UsersRecommend = pd.DataFrame(columns=['app_name', 'Count', 'release_date'])\n",
        "\n",
        "for año in df_años_diferentes:\n",
        "    # Filtramos las filas del género actual\n",
        "    df_año = df_sgur_r[df_sgur_r['release_date'] == año]\n",
        "    # Filtramos el usuario del género actual\n",
        "    if not df_año.empty:\n",
        "        top_games_año = df_año['app_name'].value_counts().head(3)\n",
        "        \n",
        "        # Crea un DataFrame de la serie\n",
        "        top_games_año_df = top_games_año.reset_index()\n",
        "        # Renombra la columna\n",
        "        top_games_año_df.columns = ['app_name', 'Count']\n",
        "        # Añade una nueva columna con el valor del año\n",
        "        top_games_año_df['release_date'] = df_año['release_date'].iloc[0]  \n",
        "\n",
        "        app_por_año.append(top_games_año_df)\n",
        "    else:\n",
        "        pass\n",
        "# Convertimos los resultados en un DataFrame\n",
        "for df in app_por_año:\n",
        "    # Agregamos al DataFrame df_UserForGenre los dataframes de cada genero y usuario\n",
        "    df_UsersRecommend = pd.concat([df_UsersRecommend, df], ignore_index=True)\n",
        "\n",
        "df_UsersRecommend.head()"
      ]
    },
    {
      "cell_type": "code",
      "execution_count": 158,
      "metadata": {},
      "outputs": [],
      "source": [
        "# Guardo Dataframe en df_UsersRecommend.csv\n",
        "# df_UsersRecommend.to_csv('/content/drive/MyDrive/PI_ML_OPS-PT/Dataset/df_UsersRecommend.csv',index=False)\n",
        "df_UsersRecommend.to_csv('./Dataset/df_UsersRecommend.csv',index=False)"
      ]
    },
    {
      "cell_type": "code",
      "execution_count": 164,
      "metadata": {},
      "outputs": [
        {
          "data": {
            "text/plain": [
              "[{'Puesto numero 1 más recomendado es': 'Commander Keen'},\n",
              " {'Puesto numero 2 más recomendado es': 'LOOM™'}]"
            ]
          },
          "execution_count": 164,
          "metadata": {},
          "output_type": "execute_result"
        }
      ],
      "source": [
        "#Funcion UsersRecommend\n",
        "year=1990\n",
        "# df_userforgenre= pd.read_csv('/content/drive/MyDrive/PI_ML_OPS-PT/Dataset/df_UserForGenre.csv')\n",
        "df_usersrecommend= pd.read_csv('./Dataset/df_UsersRecommend.csv')\n",
        "\n",
        "df_filtered_by_year = df_usersrecommend[df_usersrecommend['release_date']==year]\n",
        "\n",
        "top_games = df_filtered_by_year['app_name'].value_counts().head(3)\n",
        "\n",
        "#Convertir el resultado a un formato de lista de diccionarios\n",
        "result = [{\"Puesto numero {} más recomendado es\".format(i+1): juego} for i, juego in enumerate(top_games.index)]\n",
        "result\n",
        "\n"
      ]
    },
    {
      "cell_type": "markdown",
      "metadata": {},
      "source": [
        "UsersNotRecommend"
      ]
    },
    {
      "cell_type": "code",
      "execution_count": 159,
      "metadata": {},
      "outputs": [
        {
          "data": {
            "text/html": [
              "<div>\n",
              "<style scoped>\n",
              "    .dataframe tbody tr th:only-of-type {\n",
              "        vertical-align: middle;\n",
              "    }\n",
              "\n",
              "    .dataframe tbody tr th {\n",
              "        vertical-align: top;\n",
              "    }\n",
              "\n",
              "    .dataframe thead th {\n",
              "        text-align: right;\n",
              "    }\n",
              "</style>\n",
              "<table border=\"1\" class=\"dataframe\">\n",
              "  <thead>\n",
              "    <tr style=\"text-align: right;\">\n",
              "      <th></th>\n",
              "      <th>app_name</th>\n",
              "      <th>Count</th>\n",
              "      <th>release_date</th>\n",
              "    </tr>\n",
              "  </thead>\n",
              "  <tbody>\n",
              "    <tr>\n",
              "      <th>0</th>\n",
              "      <td>Commander Keen</td>\n",
              "      <td>1</td>\n",
              "      <td>1990</td>\n",
              "    </tr>\n",
              "    <tr>\n",
              "      <th>1</th>\n",
              "      <td>Team Fortress Classic</td>\n",
              "      <td>3</td>\n",
              "      <td>1999</td>\n",
              "    </tr>\n",
              "    <tr>\n",
              "      <th>2</th>\n",
              "      <td>Sven Co-op</td>\n",
              "      <td>2</td>\n",
              "      <td>1999</td>\n",
              "    </tr>\n",
              "    <tr>\n",
              "      <th>3</th>\n",
              "      <td>Half-Life: Opposing Force</td>\n",
              "      <td>1</td>\n",
              "      <td>1999</td>\n",
              "    </tr>\n",
              "    <tr>\n",
              "      <th>4</th>\n",
              "      <td>Deus Ex: Game of the Year Edition</td>\n",
              "      <td>2</td>\n",
              "      <td>2000</td>\n",
              "    </tr>\n",
              "  </tbody>\n",
              "</table>\n",
              "</div>"
            ],
            "text/plain": [
              "                            app_name Count release_date\n",
              "0                     Commander Keen     1         1990\n",
              "1              Team Fortress Classic     3         1999\n",
              "2                         Sven Co-op     2         1999\n",
              "3          Half-Life: Opposing Force     1         1999\n",
              "4  Deus Ex: Game of the Year Edition     2         2000"
            ]
          },
          "execution_count": 159,
          "metadata": {},
          "output_type": "execute_result"
        }
      ],
      "source": [
        "# Asigno al DataFrame el archivo csv df_ur.csv\n",
        "#df_ur=pd.read_csv('/content/drive/MyDrive/PI_ML_OPS-PT/Dataset/df_ur.csv')\n",
        "df_ur=pd.read_csv('./Dataset/df_ur.csv')\n",
        "# Filtro el dataframe por no recomendado negativa \n",
        "df_ur_nr = df_ur[\n",
        "    (df_ur['recommend'] == False) &\n",
        "    (df_ur['sentiment_analysis'] == 0)] \n",
        "\n",
        "df_sg_nr = df_sg[['item_id', 'app_name','release_date']].drop_duplicates().reset_index(drop=True)\n",
        "#Merge de los dataframes de steam_games filtrados y user_reviews filtrados\n",
        "df_sgur_nr=pd.merge(df_sg_nr[['item_id', 'app_name','release_date']],df_ur_nr[['item_id','recommend','sentiment_analysis']],on='item_id',how='inner')\n",
        "\n",
        "# Creo Lista de Años\n",
        "df_años_diferentes = df_sg_nr['release_date'].unique()\n",
        "df_años_diferentes.sort()\n",
        "#df_años_diferentes\n",
        "\n",
        "# Creo lista de años\n",
        "app_por_año = []\n",
        "df_UsersNotRecommend = pd.DataFrame(columns=['app_name', 'Count', 'release_date'])\n",
        "\n",
        "for año in df_años_diferentes:\n",
        "    # Filtramos las filas del género actual\n",
        "    df_año = df_sgur_nr[df_sgur_nr['release_date'] == año]\n",
        "    # Filtramos el usuario del género actual\n",
        "    if not df_año.empty:\n",
        "        top_games_año = df_año['app_name'].value_counts().head(3)\n",
        "        \n",
        "        # Crea un DataFrame de la serie\n",
        "        top_games_año_df = top_games_año.reset_index()\n",
        "        # Renombra la columna\n",
        "        top_games_año_df.columns = ['app_name', 'Count']\n",
        "        # Añade una nueva columna con el valor del año\n",
        "        top_games_año_df['release_date'] = df_año['release_date'].iloc[0]  \n",
        "\n",
        "        app_por_año.append(top_games_año_df)\n",
        "    else:\n",
        "        pass\n",
        "# Convertimos los resultados en un DataFrame\n",
        "for df in app_por_año:\n",
        "    # Agregamos al DataFrame df_UserForGenre los dataframes de cada genero y usuario\n",
        "    df_UsersNotRecommend = pd.concat([df_UsersNotRecommend, df], ignore_index=True)\n",
        "\n",
        "df_UsersNotRecommend.head()"
      ]
    },
    {
      "cell_type": "code",
      "execution_count": 160,
      "metadata": {},
      "outputs": [],
      "source": [
        "# Guardo Dataframe en df_UsersRecommend.csv\n",
        "# df_UsersRecommend.to_csv('/content/drive/MyDrive/PI_ML_OPS-PT/Dataset/df_UsersRecommend.csv',index=False)\n",
        "df_UsersNotRecommend.to_csv('./Dataset/df_UsersNotRecommend.csv',index=False)"
      ]
    },
    {
      "cell_type": "code",
      "execution_count": 165,
      "metadata": {},
      "outputs": [
        {
          "data": {
            "text/plain": [
              "[{'Puesto numero 1 menos recomendado es': 'Commander Keen'},\n",
              " {'Puesto numero 2 menos recomendado es': 'LOOM™'}]"
            ]
          },
          "execution_count": 165,
          "metadata": {},
          "output_type": "execute_result"
        }
      ],
      "source": [
        "#Funcion UsersNotRecommend\n",
        "year=1990\n",
        "# df_userforgenre= pd.read_csv('/content/drive/MyDrive/PI_ML_OPS-PT/Dataset/df_UserForGenre.csv')\n",
        "df_usersnotrecommend= pd.read_csv('./Dataset/df_UsersRecommend.csv')\n",
        "\n",
        "df_filtered_by_year = df_usersnotrecommend[df_usersnotrecommend['release_date']==year]\n",
        "\n",
        "top_games = df_filtered_by_year['app_name'].value_counts().head(3)\n",
        "\n",
        "#Convertir el resultado a un formato de lista de diccionarios\n",
        "result = [{\"Puesto numero {} menos recomendado es\".format(i+1): juego} for i, juego in enumerate(top_games.index)]\n",
        "result"
      ]
    },
    {
      "cell_type": "markdown",
      "metadata": {},
      "source": [
        "sentiment_analysis"
      ]
    },
    {
      "cell_type": "code",
      "execution_count": 28,
      "metadata": {},
      "outputs": [
        {
          "name": "stdout",
          "output_type": "stream",
          "text": [
            "  Codigo sentiment_analysis\n",
            "0      0           Negativo\n",
            "1      1             Neutro\n",
            "2      2           Positivo\n"
          ]
        }
      ],
      "source": [
        "df_sentiment_analysis_names=[['Codigo','sentiment_analysis'],['0','Negativo'],['1','Neutro'],['2','Positivo']]\n",
        "df_sentiment_analysis_names\n",
        "headers = df_sentiment_analysis_names.pop(0)\n",
        "\n",
        "# Create the DataFrame with the remaining lists as data and using the headers\n",
        "df_sentiment_analysis_codes = pd.DataFrame(df_sentiment_analysis_names, columns=headers)\n",
        "\n",
        "# Display the DataFrame\n",
        "print(df_sentiment_analysis_codes)"
      ]
    },
    {
      "cell_type": "code",
      "execution_count": 25,
      "metadata": {},
      "outputs": [
        {
          "ename": "AttributeError",
          "evalue": "'str' object has no attribute 'counts_by_sentiment'",
          "output_type": "error",
          "traceback": [
            "\u001b[1;31m---------------------------------------------------------------------------\u001b[0m",
            "\u001b[1;31mAttributeError\u001b[0m                            Traceback (most recent call last)",
            "Cell \u001b[1;32mIn[25], line 49\u001b[0m\n\u001b[0;32m     46\u001b[0m     df_sentiment_analysis \u001b[38;5;241m=\u001b[39m pd\u001b[38;5;241m.\u001b[39mconcat([df_sentiment_analysis, df], ignore_index\u001b[38;5;241m=\u001b[39m\u001b[38;5;28;01mTrue\u001b[39;00m)\n\u001b[0;32m     48\u001b[0m df_sentiment_analysis\u001b[38;5;241m.\u001b[39mhead(\u001b[38;5;241m60\u001b[39m)\n\u001b[1;32m---> 49\u001b[0m \u001b[38;5;28mprint\u001b[39m(\u001b[38;5;124;43m'\u001b[39;49m\u001b[38;5;124;43mNegativo: \u001b[39;49m\u001b[38;5;124;43m'\u001b[39;49m\u001b[38;5;241;43m.\u001b[39;49m\u001b[43mcounts_by_sentiment\u001b[49m\u001b[38;5;241m.\u001b[39mget(\u001b[38;5;241m0\u001b[39m, \u001b[38;5;241m0\u001b[39m))\u001b[38;5;66;03m#,\u001b[39;00m\n\u001b[0;32m     50\u001b[0m \u001b[38;5;66;03m#'Neutro': counts_by_sentiment.get(1, 0),\u001b[39;00m\n\u001b[0;32m     51\u001b[0m \u001b[38;5;66;03m#'Positivo': counts_by_sentiment.get(2, 0)}\u001b[39;00m\n",
            "\u001b[1;31mAttributeError\u001b[0m: 'str' object has no attribute 'counts_by_sentiment'"
          ]
        }
      ],
      "source": [
        "# Asigno al DataFrame el archivo csv df_ur.csv\n",
        "#df_ur=pd.read_csv('/content/drive/MyDrive/PI_ML_OPS-PT/Dataset/df_ur.csv')\n",
        "df_ur=pd.read_csv('./Dataset/df_ur.csv')\n",
        "\n",
        "#Elimino Duplicados del Dataframe\n",
        "df_sg_sa = df_sg[['item_id', 'app_name','release_date']].drop_duplicates().reset_index(drop=True)\n",
        "\n",
        "#Merge de los dataframes de steam_games filtrados y user_reviews\n",
        "df_sgur_sa=pd.merge(df_sg_sa[['item_id', 'app_name','release_date']],df_ur[['item_id','sentiment_analysis']],on='item_id',how='inner')\n",
        "\n",
        "# Creo Lista de Años\n",
        "df_años_diferentes = df_sgur_sa['release_date'].unique()\n",
        "df_años_diferentes.sort()\n",
        "#df_años_diferentes\n",
        "\n",
        "# Creo lista de años\n",
        "sa_por_año = []\n",
        "df_sentiment_analysis = pd.DataFrame(columns=['release_date', 'sentiment_analysis', 'Count'])\n",
        "\n",
        "for año in df_años_diferentes:\n",
        "    # Filtramos las filas del género actual\n",
        "    df_año = df_sgur_sa[df_sgur_sa['release_date'] == año]\n",
        "    # Filtramos el usuario del género actual\n",
        "    if not df_año.empty:\n",
        "        \n",
        "        #Filtra por total de tipo de sentiment_analysis\n",
        "        df_sentiment_analysis_a = df_año['sentiment_analysis'].value_counts()\n",
        "        #int(df_sentiment_analysis_a.get(0, 0))\n",
        "        #print(df_año['sentiment_analysis'].value_counts())\n",
        "        #df_año.head(60)\n",
        "        #print(año)\n",
        "        #print(df_sentiment_analysis_a.info())\n",
        "        # Crea un DataFrame de la serie\n",
        "        top_sa_año_df = df_sentiment_analysis_a.reset_index()\n",
        "        # Renombra la columna\n",
        "        top_sa_año_df.columns = ['sentiment_analysis', 'Count']\n",
        "        # Añade una nueva columna con el valor del año\n",
        "        top_sa_año_df['release_date'] = df_año['release_date'].iloc[0]  \n",
        "\n",
        "        sa_por_año.append(top_sa_año_df)\n",
        "    else:\n",
        "        pass\n",
        "# Convertimos los resultados en un DataFrame\n",
        "for df in sa_por_año:\n",
        "    # Agregamos al DataFrame df_sentiment_analysis los dataframes de cada genero y usuario\n",
        "    df_sentiment_analysis = pd.concat([df_sentiment_analysis, df], ignore_index=True)\n",
        "\n",
        "df_sentiment_analysis.head(60)\n",
        "#print('Negativo: '.counts_by_sentiment.get(0, 0))#,\n",
        "#'Neutro': counts_by_sentiment.get(1, 0),\n",
        "#'Positivo': counts_by_sentiment.get(2, 0)}"
      ]
    },
    {
      "cell_type": "code",
      "execution_count": 20,
      "metadata": {},
      "outputs": [],
      "source": [
        "# Guardo Dataframe en df_UsersRecommend.csv\n",
        "# df_UsersRecommend.to_csv('/content/drive/MyDrive/PI_ML_OPS-PT/Dataset/df_UsersRecommend.csv',index=False)\n",
        "df_sentiment_analysis.to_csv('./Dataset/df_sentiment_analysis.csv',index=False)"
      ]
    },
    {
      "cell_type": "code",
      "execution_count": null,
      "metadata": {},
      "outputs": [],
      "source": []
    }
  ],
  "metadata": {
    "colab": {
      "provenance": []
    },
    "kernelspec": {
      "display_name": "Python 3",
      "name": "python3"
    },
    "language_info": {
      "codemirror_mode": {
        "name": "ipython",
        "version": 3
      },
      "file_extension": ".py",
      "mimetype": "text/x-python",
      "name": "python",
      "nbconvert_exporter": "python",
      "pygments_lexer": "ipython3",
      "version": "3.10.10"
    }
  },
  "nbformat": 4,
  "nbformat_minor": 0
}

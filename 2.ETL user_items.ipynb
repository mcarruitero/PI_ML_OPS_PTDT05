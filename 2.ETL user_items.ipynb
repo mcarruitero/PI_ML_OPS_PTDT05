{
  "cells": [
    {
      "cell_type": "code",
      "execution_count": 2,
      "metadata": {
        "id": "10WAiMggKJhh"
      },
      "outputs": [],
      "source": [
        "#User Items\n",
        "#Importo Librerias\n",
        "import pandas as pd\n",
        "import ast\n",
        "import gzip"
      ]
    },
    {
      "cell_type": "code",
      "execution_count": 3,
      "metadata": {
        "id": "tua26vuOhHI-"
      },
      "outputs": [],
      "source": [
        "# User_Items\n",
        "List_User_Items = []\n",
        "#with gzip.open(u\"/content/drive/MyDrive/PI_ML_OPS-PT/Dataset/users_items.json.gz\", 'rt', encoding='UTF-8') as f:\n",
        "with gzip.open(u\"./Dataset/users_items.json.gz\", 'rt', encoding='UTF-8') as f:\n",
        "#with open(\"/content/drive/MyDrive/PI_ML_OPS-PT/Dataset/user_reviews.json.gz\", encoding='UTF-8') as f:\n",
        "    for line in f.readlines():\n",
        "        List_User_Items.append(ast.literal_eval(line))\n",
        "\n",
        "df_ui = pd.DataFrame(List_User_Items)\n",
        "df_ui = df_ui.explode('items').reset_index()\n",
        "df_ui = df_ui.drop(columns=\"index\")\n",
        "df_ui = pd.concat([df_ui, pd.json_normalize(df_ui['items'])], axis=1)\n",
        "df_ui = df_ui.drop(columns='items')"
      ]
    },
    {
      "cell_type": "code",
      "execution_count": 5,
      "metadata": {
        "colab": {
          "base_uri": "https://localhost:8080/",
          "height": 444
        },
        "id": "DLCwiJJncMRW",
        "outputId": "120dce28-0d2a-4114-a47e-d1511f3d5cda"
      },
      "outputs": [
        {
          "data": {
            "text/html": [
              "<div>\n",
              "<style scoped>\n",
              "    .dataframe tbody tr th:only-of-type {\n",
              "        vertical-align: middle;\n",
              "    }\n",
              "\n",
              "    .dataframe tbody tr th {\n",
              "        vertical-align: top;\n",
              "    }\n",
              "\n",
              "    .dataframe thead th {\n",
              "        text-align: right;\n",
              "    }\n",
              "</style>\n",
              "<table border=\"1\" class=\"dataframe\">\n",
              "  <thead>\n",
              "    <tr style=\"text-align: right;\">\n",
              "      <th></th>\n",
              "      <th>user_id</th>\n",
              "      <th>items_count</th>\n",
              "      <th>steam_id</th>\n",
              "      <th>user_url</th>\n",
              "      <th>item_id</th>\n",
              "      <th>item_name</th>\n",
              "      <th>playtime_forever</th>\n",
              "      <th>playtime_2weeks</th>\n",
              "    </tr>\n",
              "  </thead>\n",
              "  <tbody>\n",
              "    <tr>\n",
              "      <th>3733</th>\n",
              "      <td>Wackky</td>\n",
              "      <td>0</td>\n",
              "      <td>76561198039117046</td>\n",
              "      <td>http://steamcommunity.com/id/Wackky</td>\n",
              "      <td>NaN</td>\n",
              "      <td>NaN</td>\n",
              "      <td>NaN</td>\n",
              "      <td>NaN</td>\n",
              "    </tr>\n",
              "    <tr>\n",
              "      <th>3849</th>\n",
              "      <td>76561198079601835</td>\n",
              "      <td>0</td>\n",
              "      <td>76561198079601835</td>\n",
              "      <td>http://steamcommunity.com/profiles/76561198079...</td>\n",
              "      <td>NaN</td>\n",
              "      <td>NaN</td>\n",
              "      <td>NaN</td>\n",
              "      <td>NaN</td>\n",
              "    </tr>\n",
              "    <tr>\n",
              "      <th>6019</th>\n",
              "      <td>hellom8o</td>\n",
              "      <td>0</td>\n",
              "      <td>76561198117222320</td>\n",
              "      <td>http://steamcommunity.com/id/hellom8o</td>\n",
              "      <td>NaN</td>\n",
              "      <td>NaN</td>\n",
              "      <td>NaN</td>\n",
              "      <td>NaN</td>\n",
              "    </tr>\n",
              "    <tr>\n",
              "      <th>6523</th>\n",
              "      <td>starkillershadow553</td>\n",
              "      <td>0</td>\n",
              "      <td>76561198059648579</td>\n",
              "      <td>http://steamcommunity.com/id/starkillershadow553</td>\n",
              "      <td>NaN</td>\n",
              "      <td>NaN</td>\n",
              "      <td>NaN</td>\n",
              "      <td>NaN</td>\n",
              "    </tr>\n",
              "    <tr>\n",
              "      <th>7237</th>\n",
              "      <td>darkenkane</td>\n",
              "      <td>0</td>\n",
              "      <td>76561198058876001</td>\n",
              "      <td>http://steamcommunity.com/id/darkenkane</td>\n",
              "      <td>NaN</td>\n",
              "      <td>NaN</td>\n",
              "      <td>NaN</td>\n",
              "      <td>NaN</td>\n",
              "    </tr>\n",
              "    <tr>\n",
              "      <th>...</th>\n",
              "      <td>...</td>\n",
              "      <td>...</td>\n",
              "      <td>...</td>\n",
              "      <td>...</td>\n",
              "      <td>...</td>\n",
              "      <td>...</td>\n",
              "      <td>...</td>\n",
              "      <td>...</td>\n",
              "    </tr>\n",
              "    <tr>\n",
              "      <th>5169470</th>\n",
              "      <td>76561198316380182</td>\n",
              "      <td>0</td>\n",
              "      <td>76561198316380182</td>\n",
              "      <td>http://steamcommunity.com/profiles/76561198316...</td>\n",
              "      <td>NaN</td>\n",
              "      <td>NaN</td>\n",
              "      <td>NaN</td>\n",
              "      <td>NaN</td>\n",
              "    </tr>\n",
              "    <tr>\n",
              "      <th>5169471</th>\n",
              "      <td>76561198316970597</td>\n",
              "      <td>0</td>\n",
              "      <td>76561198316970597</td>\n",
              "      <td>http://steamcommunity.com/profiles/76561198316...</td>\n",
              "      <td>NaN</td>\n",
              "      <td>NaN</td>\n",
              "      <td>NaN</td>\n",
              "      <td>NaN</td>\n",
              "    </tr>\n",
              "    <tr>\n",
              "      <th>5169472</th>\n",
              "      <td>76561198318100691</td>\n",
              "      <td>0</td>\n",
              "      <td>76561198318100691</td>\n",
              "      <td>http://steamcommunity.com/profiles/76561198318...</td>\n",
              "      <td>NaN</td>\n",
              "      <td>NaN</td>\n",
              "      <td>NaN</td>\n",
              "      <td>NaN</td>\n",
              "    </tr>\n",
              "    <tr>\n",
              "      <th>5170006</th>\n",
              "      <td>XxLaughingJackClown77xX</td>\n",
              "      <td>0</td>\n",
              "      <td>76561198328759259</td>\n",
              "      <td>http://steamcommunity.com/id/XxLaughingJackClo...</td>\n",
              "      <td>NaN</td>\n",
              "      <td>NaN</td>\n",
              "      <td>NaN</td>\n",
              "      <td>NaN</td>\n",
              "    </tr>\n",
              "    <tr>\n",
              "      <th>5170014</th>\n",
              "      <td>edward_tremethick</td>\n",
              "      <td>0</td>\n",
              "      <td>76561198331598578</td>\n",
              "      <td>http://steamcommunity.com/id/edward_tremethick</td>\n",
              "      <td>NaN</td>\n",
              "      <td>NaN</td>\n",
              "      <td>NaN</td>\n",
              "      <td>NaN</td>\n",
              "    </tr>\n",
              "  </tbody>\n",
              "</table>\n",
              "<p>16806 rows × 8 columns</p>\n",
              "</div>"
            ],
            "text/plain": [
              "                         user_id  items_count           steam_id  \\\n",
              "3733                      Wackky            0  76561198039117046   \n",
              "3849           76561198079601835            0  76561198079601835   \n",
              "6019                    hellom8o            0  76561198117222320   \n",
              "6523         starkillershadow553            0  76561198059648579   \n",
              "7237                  darkenkane            0  76561198058876001   \n",
              "...                          ...          ...                ...   \n",
              "5169470        76561198316380182            0  76561198316380182   \n",
              "5169471        76561198316970597            0  76561198316970597   \n",
              "5169472        76561198318100691            0  76561198318100691   \n",
              "5170006  XxLaughingJackClown77xX            0  76561198328759259   \n",
              "5170014        edward_tremethick            0  76561198331598578   \n",
              "\n",
              "                                                  user_url item_id item_name  \\\n",
              "3733                   http://steamcommunity.com/id/Wackky     NaN       NaN   \n",
              "3849     http://steamcommunity.com/profiles/76561198079...     NaN       NaN   \n",
              "6019                 http://steamcommunity.com/id/hellom8o     NaN       NaN   \n",
              "6523      http://steamcommunity.com/id/starkillershadow553     NaN       NaN   \n",
              "7237               http://steamcommunity.com/id/darkenkane     NaN       NaN   \n",
              "...                                                    ...     ...       ...   \n",
              "5169470  http://steamcommunity.com/profiles/76561198316...     NaN       NaN   \n",
              "5169471  http://steamcommunity.com/profiles/76561198316...     NaN       NaN   \n",
              "5169472  http://steamcommunity.com/profiles/76561198318...     NaN       NaN   \n",
              "5170006  http://steamcommunity.com/id/XxLaughingJackClo...     NaN       NaN   \n",
              "5170014     http://steamcommunity.com/id/edward_tremethick     NaN       NaN   \n",
              "\n",
              "         playtime_forever  playtime_2weeks  \n",
              "3733                  NaN              NaN  \n",
              "3849                  NaN              NaN  \n",
              "6019                  NaN              NaN  \n",
              "6523                  NaN              NaN  \n",
              "7237                  NaN              NaN  \n",
              "...                   ...              ...  \n",
              "5169470               NaN              NaN  \n",
              "5169471               NaN              NaN  \n",
              "5169472               NaN              NaN  \n",
              "5170006               NaN              NaN  \n",
              "5170014               NaN              NaN  \n",
              "\n",
              "[16806 rows x 8 columns]"
            ]
          },
          "execution_count": 5,
          "metadata": {},
          "output_type": "execute_result"
        }
      ],
      "source": [
        "##Busqueda de item_id nulos\n",
        "df_ui[df_ui['item_id'].isna()]"
      ]
    },
    {
      "cell_type": "code",
      "execution_count": 6,
      "metadata": {
        "id": "KtufOoWpcMGE"
      },
      "outputs": [],
      "source": [
        "# Elimino Vacios\n",
        "df_ui.dropna(inplace=True)"
      ]
    },
    {
      "cell_type": "code",
      "execution_count": 21,
      "metadata": {
        "colab": {
          "base_uri": "https://localhost:8080/"
        },
        "id": "r5a0GBldvzmw",
        "outputId": "896f6b58-65cd-4d6f-e17f-d81e6af4ef67"
      },
      "outputs": [
        {
          "data": {
            "text/plain": [
              "user_id             0\n",
              "item_id             0\n",
              "item_name           0\n",
              "playtime_forever    0\n",
              "dtype: int64"
            ]
          },
          "execution_count": 21,
          "metadata": {},
          "output_type": "execute_result"
        }
      ],
      "source": [
        "#Valido los nulos\n",
        "df_ui.isnull().sum()"
      ]
    },
    {
      "cell_type": "code",
      "execution_count": 8,
      "metadata": {
        "id": "y-ET8FFmvzd4"
      },
      "outputs": [],
      "source": [
        "# Elimino columnas no necesarias\n",
        "df_ui.drop(columns=['items_count','steam_id','user_url','playtime_2weeks'],inplace=True)"
      ]
    },
    {
      "cell_type": "code",
      "execution_count": 9,
      "metadata": {
        "id": "hBku7POPJzEk"
      },
      "outputs": [],
      "source": [
        "# Seteo el indice\n",
        "df_ui.reset_index(drop=True, inplace=True)"
      ]
    },
    {
      "cell_type": "code",
      "execution_count": 10,
      "metadata": {
        "id": "byApZ2W8Klpz"
      },
      "outputs": [],
      "source": [
        "# Convierto id y playtime_forever a entero\n",
        "df_ui['playtime_forever'] = df_ui['playtime_forever'].astype('int')\n",
        "df_ui['item_id'] = df_ui['item_id'].astype('int')"
      ]
    },
    {
      "cell_type": "code",
      "execution_count": 11,
      "metadata": {
        "colab": {
          "base_uri": "https://localhost:8080/",
          "height": 424
        },
        "id": "CPgo6utZK6XM",
        "outputId": "9dc84bfe-1816-4397-8dba-004c84f840db"
      },
      "outputs": [
        {
          "data": {
            "text/html": [
              "<div>\n",
              "<style scoped>\n",
              "    .dataframe tbody tr th:only-of-type {\n",
              "        vertical-align: middle;\n",
              "    }\n",
              "\n",
              "    .dataframe tbody tr th {\n",
              "        vertical-align: top;\n",
              "    }\n",
              "\n",
              "    .dataframe thead th {\n",
              "        text-align: right;\n",
              "    }\n",
              "</style>\n",
              "<table border=\"1\" class=\"dataframe\">\n",
              "  <thead>\n",
              "    <tr style=\"text-align: right;\">\n",
              "      <th></th>\n",
              "      <th>user_id</th>\n",
              "      <th>item_id</th>\n",
              "      <th>item_name</th>\n",
              "      <th>playtime_forever</th>\n",
              "    </tr>\n",
              "  </thead>\n",
              "  <tbody>\n",
              "    <tr>\n",
              "      <th>0</th>\n",
              "      <td>76561197970982479</td>\n",
              "      <td>10</td>\n",
              "      <td>Counter-Strike</td>\n",
              "      <td>6</td>\n",
              "    </tr>\n",
              "    <tr>\n",
              "      <th>1</th>\n",
              "      <td>76561197970982479</td>\n",
              "      <td>20</td>\n",
              "      <td>Team Fortress Classic</td>\n",
              "      <td>0</td>\n",
              "    </tr>\n",
              "    <tr>\n",
              "      <th>2</th>\n",
              "      <td>76561197970982479</td>\n",
              "      <td>30</td>\n",
              "      <td>Day of Defeat</td>\n",
              "      <td>7</td>\n",
              "    </tr>\n",
              "    <tr>\n",
              "      <th>3</th>\n",
              "      <td>76561197970982479</td>\n",
              "      <td>40</td>\n",
              "      <td>Deathmatch Classic</td>\n",
              "      <td>0</td>\n",
              "    </tr>\n",
              "    <tr>\n",
              "      <th>4</th>\n",
              "      <td>76561197970982479</td>\n",
              "      <td>50</td>\n",
              "      <td>Half-Life: Opposing Force</td>\n",
              "      <td>0</td>\n",
              "    </tr>\n",
              "  </tbody>\n",
              "</table>\n",
              "</div>"
            ],
            "text/plain": [
              "             user_id  item_id                  item_name  playtime_forever\n",
              "0  76561197970982479       10             Counter-Strike                 6\n",
              "1  76561197970982479       20      Team Fortress Classic                 0\n",
              "2  76561197970982479       30              Day of Defeat                 7\n",
              "3  76561197970982479       40         Deathmatch Classic                 0\n",
              "4  76561197970982479       50  Half-Life: Opposing Force                 0"
            ]
          },
          "execution_count": 11,
          "metadata": {},
          "output_type": "execute_result"
        }
      ],
      "source": [
        "# Muestro Dataframe\n",
        "df_ui.head()"
      ]
    },
    {
      "cell_type": "code",
      "execution_count": 12,
      "metadata": {
        "id": "O0Egz2BGYzAf"
      },
      "outputs": [],
      "source": [
        "#Elimino los play_time forever(año) 0\n",
        "df_ui.drop(df_ui[df_ui['playtime_forever'] == 0].index, inplace=True)\n",
        "df_ui.reset_index(drop=True, inplace=True)"
      ]
    },
    {
      "cell_type": "code",
      "execution_count": 20,
      "metadata": {
        "colab": {
          "base_uri": "https://localhost:8080/",
          "height": 424
        },
        "id": "6Ari1Uwc4uxk",
        "outputId": "38f38db3-ea3c-4a53-852f-a67cb1c586aa"
      },
      "outputs": [
        {
          "data": {
            "text/html": [
              "<div>\n",
              "<style scoped>\n",
              "    .dataframe tbody tr th:only-of-type {\n",
              "        vertical-align: middle;\n",
              "    }\n",
              "\n",
              "    .dataframe tbody tr th {\n",
              "        vertical-align: top;\n",
              "    }\n",
              "\n",
              "    .dataframe thead th {\n",
              "        text-align: right;\n",
              "    }\n",
              "</style>\n",
              "<table border=\"1\" class=\"dataframe\">\n",
              "  <thead>\n",
              "    <tr style=\"text-align: right;\">\n",
              "      <th></th>\n",
              "      <th>user_id</th>\n",
              "      <th>item_id</th>\n",
              "      <th>item_name</th>\n",
              "      <th>playtime_forever</th>\n",
              "    </tr>\n",
              "  </thead>\n",
              "  <tbody>\n",
              "    <tr>\n",
              "      <th>0</th>\n",
              "      <td>76561197970982479</td>\n",
              "      <td>10</td>\n",
              "      <td>Counter-Strike</td>\n",
              "      <td>6</td>\n",
              "    </tr>\n",
              "    <tr>\n",
              "      <th>1</th>\n",
              "      <td>76561197970982479</td>\n",
              "      <td>30</td>\n",
              "      <td>Day of Defeat</td>\n",
              "      <td>7</td>\n",
              "    </tr>\n",
              "    <tr>\n",
              "      <th>2</th>\n",
              "      <td>76561197970982479</td>\n",
              "      <td>300</td>\n",
              "      <td>Day of Defeat: Source</td>\n",
              "      <td>4733</td>\n",
              "    </tr>\n",
              "    <tr>\n",
              "      <th>3</th>\n",
              "      <td>76561197970982479</td>\n",
              "      <td>240</td>\n",
              "      <td>Counter-Strike: Source</td>\n",
              "      <td>1853</td>\n",
              "    </tr>\n",
              "    <tr>\n",
              "      <th>4</th>\n",
              "      <td>76561197970982479</td>\n",
              "      <td>3830</td>\n",
              "      <td>Psychonauts</td>\n",
              "      <td>333</td>\n",
              "    </tr>\n",
              "  </tbody>\n",
              "</table>\n",
              "</div>"
            ],
            "text/plain": [
              "             user_id  item_id               item_name  playtime_forever\n",
              "0  76561197970982479       10          Counter-Strike                 6\n",
              "1  76561197970982479       30           Day of Defeat                 7\n",
              "2  76561197970982479      300   Day of Defeat: Source              4733\n",
              "3  76561197970982479      240  Counter-Strike: Source              1853\n",
              "4  76561197970982479     3830             Psychonauts               333"
            ]
          },
          "execution_count": 20,
          "metadata": {},
          "output_type": "execute_result"
        }
      ],
      "source": [
        "# Muestro Dataframe\n",
        "df_ui.head()"
      ]
    },
    {
      "cell_type": "code",
      "execution_count": 17,
      "metadata": {
        "id": "1NzcPXC6Rd7_"
      },
      "outputs": [],
      "source": [
        "# Guardo Dataframe en csv comprimido\n",
        "# df_ui.to_csv('/content/drive/MyDrive/PI_ML_OPS-PT/Dataset/df_ui.csv.gz',index=False, compression='gzip')\n",
        "df_ui.to_csv('./Dataset/df_ui.csv.gz',index=False, compression='gzip')"
      ]
    },
    {
      "cell_type": "code",
      "execution_count": null,
      "metadata": {},
      "outputs": [],
      "source": []
    },
    {
      "cell_type": "code",
      "execution_count": null,
      "metadata": {},
      "outputs": [],
      "source": []
    },
    {
      "cell_type": "code",
      "execution_count": 53,
      "metadata": {
        "id": "O8uZGxh2Rdvs"
      },
      "outputs": [],
      "source": [
        "#Crear archivo base de genres\n",
        "df_sgui=pd.merge(df_sg[['item_id','genres','release_date']],df_ui[['item_id','playtime_forever']],on='item_id',how='left')\n",
        "\n",
        "#df_ug=pd.merge(df_sg[['genres','release_date']],df_ui[['playtime_forever']],on='item_id',how='left')\n",
        "#df_sgui\n",
        "#df_ug[df_ug['item_id']==10]\n",
        "\n",
        "# hago un merge teniendo todos los usuarios\n",
        "#user_rev_item = pd.merge(user_items_proc[['user_id','item_id','playtime_forever']],user_review[['user_id','recommend']],on = 'user_id',how='left')\n",
        "# Me quedo solo con los que estan nulos en reviews\n",
        "#user_rev_item = user_rev_item[user_rev_item['recommend'].isnull()]\n",
        "# Hago un agrupamiento por usuario y saco el id del que tiene mas minuntos.\n",
        "#max_playtime_items = user_rev_item.groupby('user_id')['playtime_forever'].idxmax()\n",
        "#result_df = user_rev_item.loc[max_playtime_items, ['user_id', 'item_id']]\n",
        "#result_df.to_csv('../datasets/user_item_max_horas.csv',index=False) # Exporto para ser usado por la funcion"
      ]
    },
    {
      "cell_type": "code",
      "execution_count": null,
      "metadata": {
        "id": "NsRMs7DscLc4"
      },
      "outputs": [],
      "source": []
    },
    {
      "cell_type": "code",
      "execution_count": null,
      "metadata": {
        "id": "LXvGqLTiFYnW"
      },
      "outputs": [],
      "source": [
        " # hago un merge teniendo todos los usuarios\n",
        "user_rev_item = pd.merge(df_ui[['user_id','item_id','playtime_forever']],user_review[['user_id','recommend']],on = 'user_id',how='left')\n",
        "# Me quedo solo con los que estan nulos en reviews\n",
        "user_rev_item = user_rev_item[user_rev_item['recommend'].isnull()]\n",
        "# Hago un agrupamiento por usuario y saco el id del que tiene mas minuntos.\n",
        "max_playtime_items = user_rev_item.groupby('user_id')['playtime_forever'].idxmax()\n",
        "result_df = user_rev_item.loc[max_playtime_items, ['user_id', 'item_id']]\n",
        "result_df.to_csv('../datasets/user_item_max_horas.csv',index=False) # Exporto para ser usado por la funcion"
      ]
    }
  ],
  "metadata": {
    "colab": {
      "provenance": []
    },
    "kernelspec": {
      "display_name": "Python 3",
      "name": "python3"
    },
    "language_info": {
      "codemirror_mode": {
        "name": "ipython",
        "version": 3
      },
      "file_extension": ".py",
      "mimetype": "text/x-python",
      "name": "python",
      "nbconvert_exporter": "python",
      "pygments_lexer": "ipython3",
      "version": "3.10.10"
    }
  },
  "nbformat": 4,
  "nbformat_minor": 0
}
